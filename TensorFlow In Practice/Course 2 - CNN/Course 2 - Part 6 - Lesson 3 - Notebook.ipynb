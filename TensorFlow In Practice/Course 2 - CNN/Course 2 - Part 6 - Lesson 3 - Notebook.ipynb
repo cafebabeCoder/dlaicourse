{
 "cells": [
  {
   "cell_type": "code",
   "execution_count": 4,
   "metadata": {
    "colab": {
     "height": 259
    },
    "colab_type": "code",
    "executionInfo": {
     "elapsed": 15633,
     "status": "ok",
     "timestamp": 1550095507708,
     "user": {
      "displayName": "Laurence Moroney",
      "photoUrl": "https://lh3.googleusercontent.com/-RcxktLY-TBk/AAAAAAAAAAI/AAAAAAAAABY/b4V4dTIqmPI/s64/photo.jpg",
      "userId": "06401446828348966425"
     },
     "user_tz": 480
    },
    "id": "1xJZ5glPPCRz",
    "outputId": "27e9141e-270b-4f91-ee06-c534f26241d5"
   },
   "outputs": [
    {
     "name": "stdout",
     "output_type": "stream",
     "text": [
      "last layer output shape:  (None, 7, 7, 768)\n"
     ]
    }
   ],
   "source": [
    "import os\n",
    "\n",
    "from tensorflow.keras import layers\n",
    "from tensorflow.keras import Model\n",
    "!wget --no-check-certificate \\\n",
    "    https://storage.googleapis.com/mledu-datasets/inception_v3_weights_tf_dim_ordering_tf_kernels_notop.h5 \\\n",
    "    -O /tmp/inception_v3_weights_tf_dim_ordering_tf_kernels_notop.h5\n",
    "  \n",
    "from tensorflow.keras.applications.inception_v3 import InceptionV3\n",
    "\n",
    "local_weights_file = '/tmp/inception_v3_weights_tf_dim_ordering_tf_kernels_notop.h5'\n",
    "\n",
    "pre_trained_model = InceptionV3(input_shape = (150, 150, 3), \n",
    "                                include_top = False, \n",
    "                                weights = None)\n",
    "\n",
    "pre_trained_model.load_weights(local_weights_file)\n",
    "\n",
    "for layer in pre_trained_model.layers:\n",
    "  layer.trainable = False\n",
    "  \n",
    "# pre_trained_model.summary()\n",
    "\n",
    "last_layer = pre_trained_model.get_layer('mixed7')\n",
    "print('last layer output shape: ', last_layer.output_shape)\n",
    "last_output = last_layer.output"
   ]
  },
  {
   "cell_type": "code",
   "execution_count": 5,
   "metadata": {
    "colab": {},
    "colab_type": "code",
    "id": "BMXb913pbvFg"
   },
   "outputs": [],
   "source": [
    "from tensorflow.keras.optimizers import RMSprop\n",
    "\n",
    "# Flatten the output layer to 1 dimension\n",
    "x = layers.Flatten()(last_output)\n",
    "# Add a fully connected layer with 1,024 hidden units and ReLU activation\n",
    "x = layers.Dense(1024, activation='relu')(x)\n",
    "# Add a dropout rate of 0.2\n",
    "x = layers.Dropout(0.2)(x)                  \n",
    "# Add a final sigmoid layer for classification\n",
    "x = layers.Dense  (1, activation='sigmoid')(x)           \n",
    "\n",
    "model = Model( pre_trained_model.input, x) \n",
    "\n",
    "model.compile(optimizer = RMSprop(lr=0.0001), \n",
    "              loss = 'binary_crossentropy', \n",
    "              metrics = ['acc'])\n"
   ]
  },
  {
   "cell_type": "code",
   "execution_count": 6,
   "metadata": {
    "colab": {
     "height": 276
    },
    "colab_type": "code",
    "executionInfo": {
     "elapsed": 5048,
     "status": "ok",
     "timestamp": 1550095528147,
     "user": {
      "displayName": "Laurence Moroney",
      "photoUrl": "https://lh3.googleusercontent.com/-RcxktLY-TBk/AAAAAAAAAAI/AAAAAAAAABY/b4V4dTIqmPI/s64/photo.jpg",
      "userId": "06401446828348966425"
     },
     "user_tz": 480
    },
    "id": "O4s8HckqGlnb",
    "outputId": "76893e93-b44b-41f2-a4f2-428ad05c537d"
   },
   "outputs": [
    {
     "name": "stdout",
     "output_type": "stream",
     "text": [
      "Found 2000 images belonging to 2 classes.\n",
      "Found 1000 images belonging to 2 classes.\n"
     ]
    }
   ],
   "source": [
    "# !wget --no-check-certificate \\\n",
    "#         https://storage.googleapis.com/mledu-datasets/cats_and_dogs_filtered.zip \\\n",
    "#        -O /tmp/cats_and_dogs_filtered.zip\n",
    "\n",
    "from tensorflow.keras.preprocessing.image import ImageDataGenerator\n",
    "\n",
    "import os\n",
    "import zipfile\n",
    "\n",
    "# local_zip = '//tmp/cats_and_dogs_filtered.zip'\n",
    "\n",
    "# zip_ref = zipfile.ZipFile(local_zip, 'r')\n",
    "\n",
    "# zip_ref.extractall('/tmp')\n",
    "# zip_ref.close()\n",
    "\n",
    "# Define our example directories and files\n",
    "base_dir = '/tmp/cats_and_dogs_filtered'\n",
    "\n",
    "train_dir = os.path.join( base_dir, 'train')\n",
    "validation_dir = os.path.join( base_dir, 'validation')\n",
    "\n",
    "\n",
    "train_cats_dir = os.path.join(train_dir, 'cats') # Directory with our training cat pictures\n",
    "train_dogs_dir = os.path.join(train_dir, 'dogs') # Directory with our training dog pictures\n",
    "validation_cats_dir = os.path.join(validation_dir, 'cats') # Directory with our validation cat pictures\n",
    "validation_dogs_dir = os.path.join(validation_dir, 'dogs')# Directory with our validation dog pictures\n",
    "\n",
    "train_cat_fnames = os.listdir(train_cats_dir)\n",
    "train_dog_fnames = os.listdir(train_dogs_dir)\n",
    "\n",
    "# Add our data-augmentation parameters to ImageDataGenerator\n",
    "train_datagen = ImageDataGenerator(rescale = 1./255.,\n",
    "                                   rotation_range = 40,\n",
    "                                   width_shift_range = 0.2,\n",
    "                                   height_shift_range = 0.2,\n",
    "                                   shear_range = 0.2,\n",
    "                                   zoom_range = 0.2,\n",
    "                                   horizontal_flip = True)\n",
    "\n",
    "# Note that the validation data should not be augmented!\n",
    "test_datagen = ImageDataGenerator( rescale = 1.0/255. )\n",
    "\n",
    "# Flow training images in batches of 20 using train_datagen generator\n",
    "train_generator = train_datagen.flow_from_directory(train_dir,\n",
    "                                                    batch_size = 20,\n",
    "                                                    class_mode = 'binary', \n",
    "                                                    target_size = (150, 150))     \n",
    "\n",
    "# Flow validation images in batches of 20 using test_datagen generator\n",
    "validation_generator =  test_datagen.flow_from_directory( validation_dir,\n",
    "                                                          batch_size  = 20,\n",
    "                                                          class_mode  = 'binary', \n",
    "                                                          target_size = (150, 150))"
   ]
  },
  {
   "cell_type": "code",
   "execution_count": 7,
   "metadata": {
    "colab": {
     "height": 708
    },
    "colab_type": "code",
    "executionInfo": {
     "elapsed": 298966,
     "status": "ok",
     "timestamp": 1550095833960,
     "user": {
      "displayName": "Laurence Moroney",
      "photoUrl": "https://lh3.googleusercontent.com/-RcxktLY-TBk/AAAAAAAAAAI/AAAAAAAAABY/b4V4dTIqmPI/s64/photo.jpg",
      "userId": "06401446828348966425"
     },
     "user_tz": 480
    },
    "id": "Blhq2MAUeyGA",
    "outputId": "a1659af1-32c1-4503-8972-d47b77b5035d"
   },
   "outputs": [
    {
     "name": "stdout",
     "output_type": "stream",
     "text": [
      "WARNING:tensorflow:From <ipython-input-7-a6ef6ee00f7b>:7: Model.fit_generator (from tensorflow.python.keras.engine.training) is deprecated and will be removed in a future version.\n",
      "Instructions for updating:\n",
      "Please use Model.fit, which supports generators.\n",
      "WARNING:tensorflow:sample_weight modes were coerced from\n",
      "  ...\n",
      "    to  \n",
      "  ['...']\n",
      "WARNING:tensorflow:sample_weight modes were coerced from\n",
      "  ...\n",
      "    to  \n",
      "  ['...']\n",
      "Train for 100 steps, validate for 50 steps\n",
      "Epoch 1/20\n",
      "100/100 - 56s - loss: 0.4895 - acc: 0.7570 - val_loss: 0.1721 - val_acc: 0.9450\n",
      "Epoch 2/20\n",
      "100/100 - 50s - loss: 0.3659 - acc: 0.8345 - val_loss: 0.6362 - val_acc: 0.8790\n",
      "Epoch 3/20\n",
      "100/100 - 50s - loss: 0.3389 - acc: 0.8600 - val_loss: 0.4346 - val_acc: 0.9190\n",
      "Epoch 4/20\n",
      "100/100 - 50s - loss: 0.3389 - acc: 0.8540 - val_loss: 0.2602 - val_acc: 0.9410\n",
      "Epoch 5/20\n",
      "100/100 - 51s - loss: 0.3124 - acc: 0.8645 - val_loss: 0.4623 - val_acc: 0.9280\n",
      "Epoch 6/20\n",
      "100/100 - 50s - loss: 0.2758 - acc: 0.8865 - val_loss: 0.2629 - val_acc: 0.9520\n",
      "Epoch 7/20\n",
      "100/100 - 51s - loss: 0.3090 - acc: 0.8670 - val_loss: 0.3072 - val_acc: 0.9570\n",
      "Epoch 8/20\n",
      "100/100 - 51s - loss: 0.2743 - acc: 0.8955 - val_loss: 0.3893 - val_acc: 0.9440\n",
      "Epoch 9/20\n",
      "100/100 - 51s - loss: 0.2729 - acc: 0.8935 - val_loss: 0.3050 - val_acc: 0.9590\n",
      "Epoch 10/20\n",
      "100/100 - 50s - loss: 0.2670 - acc: 0.8870 - val_loss: 0.5656 - val_acc: 0.9390\n",
      "Epoch 11/20\n",
      "100/100 - 51s - loss: 0.2789 - acc: 0.8930 - val_loss: 0.3303 - val_acc: 0.9640\n",
      "Epoch 12/20\n",
      "100/100 - 51s - loss: 0.2545 - acc: 0.8910 - val_loss: 0.6017 - val_acc: 0.9380\n",
      "Epoch 13/20\n",
      "100/100 - 50s - loss: 0.2753 - acc: 0.8860 - val_loss: 0.3645 - val_acc: 0.9590\n",
      "Epoch 14/20\n",
      "100/100 - 51s - loss: 0.2774 - acc: 0.8890 - val_loss: 0.4348 - val_acc: 0.9470\n",
      "Epoch 15/20\n",
      "100/100 - 59s - loss: 0.2478 - acc: 0.9010 - val_loss: 0.5817 - val_acc: 0.9400\n",
      "Epoch 16/20\n",
      "100/100 - 63s - loss: 0.2381 - acc: 0.9095 - val_loss: 0.3468 - val_acc: 0.9620\n",
      "Epoch 17/20\n",
      "100/100 - 62s - loss: 0.2507 - acc: 0.9010 - val_loss: 0.6754 - val_acc: 0.9370\n",
      "Epoch 18/20\n",
      "100/100 - 63s - loss: 0.2327 - acc: 0.9120 - val_loss: 0.4768 - val_acc: 0.9500\n",
      "Epoch 19/20\n",
      "100/100 - 63s - loss: 0.2332 - acc: 0.9085 - val_loss: 0.3801 - val_acc: 0.9550\n",
      "Epoch 20/20\n",
      "100/100 - 63s - loss: 0.2331 - acc: 0.9110 - val_loss: 0.3863 - val_acc: 0.9590\n"
     ]
    }
   ],
   "source": [
    "history = model.fit_generator(\n",
    "            train_generator,\n",
    "            validation_data = validation_generator,\n",
    "            steps_per_epoch = 100,\n",
    "            epochs = 20,\n",
    "            validation_steps = 50,\n",
    "            verbose = 2)"
   ]
  },
  {
   "cell_type": "code",
   "execution_count": 60,
   "metadata": {
    "colab": {
     "height": 306
    },
    "colab_type": "code",
    "executionInfo": {
     "elapsed": 593,
     "status": "ok",
     "timestamp": 1550095870701,
     "user": {
      "displayName": "Laurence Moroney",
      "photoUrl": "https://lh3.googleusercontent.com/-RcxktLY-TBk/AAAAAAAAAAI/AAAAAAAAABY/b4V4dTIqmPI/s64/photo.jpg",
      "userId": "06401446828348966425"
     },
     "user_tz": 480
    },
    "id": "C2Fp6Se9rKuL",
    "outputId": "498822a1-4a8d-4840-cdb9-26366f754c41"
   },
   "outputs": [
    {
     "data": {
      "image/png": "[encoded data removed]",
      "text/plain": [
       "<Figure size 576x396 with 1 Axes>"
      ]
     },
     "metadata": {},
     "output_type": "display_data"
    },
    {
     "data": {
      "text/plain": [
       "<Figure size 576x396 with 0 Axes>"
      ]
     },
     "metadata": {},
     "output_type": "display_data"
    }
   ],
   "source": [
    "import matplotlib.pyplot as plt\n",
    "acc = history.history['acc']\n",
    "val_acc = history.history['val_acc']\n",
    "loss = history.history['loss']\n",
    "val_loss = history.history['val_loss']\n",
    "\n",
    "epochs = range(len(acc))\n",
    "\n",
    "plt.style.use('seaborn-notebook')\n",
    "plt.plot(epochs, acc, 'r--', label='Training accuracy')\n",
    "plt.plot(epochs, val_acc, 'b', label='Validation accuracy')\n",
    "plt.title('Training and validation accuracy')\n",
    "plt.legend(loc=0)\n",
    "plt.figure()\n",
    "\n",
    "plt.show()"
   ]
  },
  {
   "cell_type": "code",
   "execution_count": 19,
   "metadata": {},
   "outputs": [],
   "source": [
    "import numpy as np\n",
    "import pandas as pd\n",
    "import matplotlib.pyplot as plt\n",
    "import seaborn as sns\n",
    "sns.set(style=\"darkgrid\")"
   ]
  },
  {
   "cell_type": "code",
   "execution_count": 49,
   "metadata": {},
   "outputs": [
    {
     "data": {
      "image/png": "[encoded data removed]",
      "text/plain": [
       "<Figure size 432x288 with 1 Axes>"
      ]
     },
     "metadata": {},
     "output_type": "display_data"
    }
   ],
   "source": [
    "his = pd.DataFrame(dict(epoch=epochs,\n",
    "                       train_acc=acc,\n",
    "                          val_acc=val_acc\n",
    "                         ))\n",
    "g = sns.lineplot(data=his[['train_acc', 'val_acc']])"
   ]
  },
  {
   "cell_type": "code",
   "execution_count": null,
   "metadata": {},
   "outputs": [],
   "source": []
  }
 ],
 "metadata": {
  "accelerator": "GPU",
  "colab": {
   "collapsed_sections": [],
   "name": "Transfer Learning.ipynb",
   "provenance": [],
   "version": "0.3.2"
  },
  "kernelspec": {
   "display_name": "tf2",
   "language": "python",
   "name": "tf2"
  },
  "language_info": {
   "codemirror_mode": {
    "name": "ipython",
    "version": 3
   },
   "file_extension": ".py",
   "mimetype": "text/x-python",
   "name": "python",
   "nbconvert_exporter": "python",
   "pygments_lexer": "ipython3",
   "version": "3.7.5"
  }
 },
 "nbformat": 4,
 "nbformat_minor": 1
}
