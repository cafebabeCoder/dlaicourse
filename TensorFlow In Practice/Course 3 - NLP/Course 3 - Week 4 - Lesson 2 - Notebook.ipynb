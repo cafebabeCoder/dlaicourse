{
 "cells": [
  {
   "cell_type": "code",
   "execution_count": 1,
   "metadata": {
    "colab": {},
    "colab_type": "code",
    "id": "BOwsuGQQY9OL"
   },
   "outputs": [],
   "source": [
    "import tensorflow as tf\n",
    "\n",
    "from tensorflow.keras.preprocessing.sequence import pad_sequences\n",
    "from tensorflow.keras.layers import Embedding, LSTM, Dense, Bidirectional\n",
    "from tensorflow.keras.preprocessing.text import Tokenizer\n",
    "from tensorflow.keras.models import Sequential\n",
    "from tensorflow.keras.optimizers import Adam\n",
    "import numpy as np "
   ]
  },
  {
   "cell_type": "code",
   "execution_count": 2,
   "metadata": {
    "colab": {
     "height": 238
    },
    "colab_type": "code",
    "executionInfo": {
     "elapsed": 2494,
     "status": "ok",
     "timestamp": 1558917564071,
     "user": {
      "displayName": "Laurence Moroney",
      "photoUrl": "https://lh3.googleusercontent.com/-RcxktLY-TBk/AAAAAAAAAAI/AAAAAAAAABY/b4V4dTIqmPI/s64/photo.jpg",
      "userId": "06401446828348966425"
     },
     "user_tz": 420
    },
    "id": "pylt5qZYsWPh",
    "outputId": "55e4ba98-9c52-4bcd-d369-bd76336e5fce"
   },
   "outputs": [
    {
     "name": "stdout",
     "output_type": "stream",
     "text": [
      "--2019-05-26 17:39:23--  https://storage.googleapis.com/laurencemoroney-blog.appspot.com/irish-lyrics-eof.txt\r\n",
      "Resolving storage.googleapis.com... 2a00:1450:4010:c0b::80, 173.194.222.128\r\n",
      "Connecting to storage.googleapis.com|2a00:1450:4010:c0b::80|:443... connected.\r\n",
      "WARNING: cannot verify storage.googleapis.com's certificate, issued by 'CN=Google Internet Authority G3,O=Google Trust Services,C=US':\r\n",
      "  Unable to locally verify the issuer's authority.\n",
      "HTTP request sent, awaiting response... 200 OK\n",
      "Length: 68970 (67K) [text/plain]\n",
      "Saving to: '/tmp/irish-lyrics-eof.txt'\n",
      "\n",
      "/tmp/irish-lyrics-e 100%[=====================>]  67.35K  --.-KB/s   in 0.001s \n",
      "\n",
      "2019-05-26 17:39:23 (94.9 MB/s) - '/tmp/irish-lyrics-eof.txt' saved [68970/68970]\n",
      "\n"
     ]
    }
   ],
   "source": [
    "!wget --no-check-certificate \\\n",
    "    https://storage.googleapis.com/laurencemoroney-blog.appspot.com/irish-lyrics-eof.txt \\\n",
    "    -O /tmp/irish-lyrics-eof.txt"
   ]
  },
  {
   "cell_type": "code",
   "execution_count": 8,
   "metadata": {
    "colab": {
     "height": 71
    },
    "colab_type": "code",
    "executionInfo": {
     "elapsed": 522,
     "status": "ok",
     "timestamp": 1558917567068,
     "user": {
      "displayName": "Laurence Moroney",
      "photoUrl": "https://lh3.googleusercontent.com/-RcxktLY-TBk/AAAAAAAAAAI/AAAAAAAAABY/b4V4dTIqmPI/s64/photo.jpg",
      "userId": "06401446828348966425"
     },
     "user_tz": 420
    },
    "id": "PRnDnCW-Z7qv",
    "outputId": "0bdd6f6d-44ac-49e9-9e52-929e36b78b3e"
   },
   "outputs": [
    {
     "name": "stdout",
     "output_type": "stream",
     "text": [
      "[('the', 1), ('and', 2), ('i', 3), ('to', 4), ('a', 5), ('of', 6), ('my', 7), ('in', 8), ('me', 9), ('for', 10)]\n",
      "2690\n"
     ]
    }
   ],
   "source": [
    "tokenizer = Tokenizer()\n",
    "\n",
    "data = open('/tmp/irish-lyrics-eof.txt').read()\n",
    "\n",
    "corpus = data.lower().split(\"\\n\")\n",
    "\n",
    "tokenizer.fit_on_texts(corpus)\n",
    "total_words = len(tokenizer.word_index) + 1\n",
    "\n",
    "print(list(tokenizer.word_index.items())[:10])\n",
    "print(total_words)"
   ]
  },
  {
   "cell_type": "code",
   "execution_count": 9,
   "metadata": {
    "colab": {},
    "colab_type": "code",
    "id": "soPGVheskaQP"
   },
   "outputs": [],
   "source": [
    "\n",
    "input_sequences = []\n",
    "for line in corpus:\n",
    "\ttoken_list = tokenizer.texts_to_sequences([line])[0]\n",
    "\tfor i in range(1, len(token_list)):\n",
    "\t\tn_gram_sequence = token_list[:i+1]\n",
    "\t\tinput_sequences.append(n_gram_sequence)\n",
    "\n",
    "# pad sequences \n",
    "max_sequence_len = max([len(x) for x in input_sequences])\n",
    "input_sequences = np.array(pad_sequences(input_sequences, maxlen=max_sequence_len, padding='pre'))\n",
    "\n",
    "# create predictors and label\n",
    "xs, labels = input_sequences[:,:-1],input_sequences[:,-1]\n",
    "\n",
    "ys = tf.keras.utils.to_categorical(labels, num_classes=total_words)"
   ]
  },
  {
   "cell_type": "code",
   "execution_count": 10,
   "metadata": {
    "colab": {
     "height": 153
    },
    "colab_type": "code",
    "executionInfo": {
     "elapsed": 461,
     "status": "ok",
     "timestamp": 1558917571409,
     "user": {
      "displayName": "Laurence Moroney",
      "photoUrl": "https://lh3.googleusercontent.com/-RcxktLY-TBk/AAAAAAAAAAI/AAAAAAAAABY/b4V4dTIqmPI/s64/photo.jpg",
      "userId": "06401446828348966425"
     },
     "user_tz": 420
    },
    "id": "pJtwVB2NbOAP",
    "outputId": "b02c5e5a-79c7-421c-b627-2464ddd8771b"
   },
   "outputs": [
    {
     "name": "stdout",
     "output_type": "stream",
     "text": [
      "8\n",
      "1\n",
      "71\n",
      "6\n",
      "713\n",
      "39\n",
      "1790\n",
      "1791\n"
     ]
    }
   ],
   "source": [
    "print(tokenizer.word_index['in'])\n",
    "print(tokenizer.word_index['the'])\n",
    "print(tokenizer.word_index['town'])\n",
    "print(tokenizer.word_index['of'])\n",
    "print(tokenizer.word_index['athy'])\n",
    "print(tokenizer.word_index['one'])\n",
    "print(tokenizer.word_index['jeremy'])\n",
    "print(tokenizer.word_index['lanigan'])"
   ]
  },
  {
   "cell_type": "code",
   "execution_count": 11,
   "metadata": {
    "colab": {
     "height": 34
    },
    "colab_type": "code",
    "executionInfo": {
     "elapsed": 469,
     "status": "ok",
     "timestamp": 1558917573259,
     "user": {
      "displayName": "Laurence Moroney",
      "photoUrl": "https://lh3.googleusercontent.com/-RcxktLY-TBk/AAAAAAAAAAI/AAAAAAAAABY/b4V4dTIqmPI/s64/photo.jpg",
      "userId": "06401446828348966425"
     },
     "user_tz": 420
    },
    "id": "49Cv68JOakwv",
    "outputId": "0a5e4791-c270-45f9-b886-79a4ce85a18b"
   },
   "outputs": [
    {
     "name": "stdout",
     "output_type": "stream",
     "text": [
      "[0 0 0 0 0 0 0 0 0 0 0 0 0 0 2]\n"
     ]
    }
   ],
   "source": [
    "print(xs[6])"
   ]
  },
  {
   "cell_type": "code",
   "execution_count": 12,
   "metadata": {
    "colab": {
     "height": 34
    },
    "colab_type": "code",
    "executionInfo": {
     "elapsed": 469,
     "status": "ok",
     "timestamp": 1558917574741,
     "user": {
      "displayName": "Laurence Moroney",
      "photoUrl": "https://lh3.googleusercontent.com/-RcxktLY-TBk/AAAAAAAAAAI/AAAAAAAAABY/b4V4dTIqmPI/s64/photo.jpg",
      "userId": "06401446828348966425"
     },
     "user_tz": 420
    },
    "id": "iY-jwvfgbEF8",
    "outputId": "6e0fed89-6e1a-4e49-c0a4-1aa8f39c3432"
   },
   "outputs": [
    {
     "name": "stdout",
     "output_type": "stream",
     "text": [
      "[0. 0. 0. ... 0. 0. 0.]\n"
     ]
    }
   ],
   "source": [
    "print(ys[6])"
   ]
  },
  {
   "cell_type": "code",
   "execution_count": 13,
   "metadata": {
    "colab": {
     "height": 51
    },
    "colab_type": "code",
    "executionInfo": {
     "elapsed": 481,
     "status": "ok",
     "timestamp": 1558917576380,
     "user": {
      "displayName": "Laurence Moroney",
      "photoUrl": "https://lh3.googleusercontent.com/-RcxktLY-TBk/AAAAAAAAAAI/AAAAAAAAABY/b4V4dTIqmPI/s64/photo.jpg",
      "userId": "06401446828348966425"
     },
     "user_tz": 420
    },
    "id": "wtzlUMYadhKt",
    "outputId": "8d05f736-c8de-4a25-c4f9-e8f842690f62"
   },
   "outputs": [
    {
     "name": "stdout",
     "output_type": "stream",
     "text": [
      "[   0    0    0    0    0    0    0    0    0   51   12   96 1217   48\n",
      "    2]\n",
      "[0. 0. 0. ... 0. 0. 0.]\n"
     ]
    }
   ],
   "source": [
    "print(xs[5])\n",
    "print(ys[5])"
   ]
  },
  {
   "cell_type": "code",
   "execution_count": 14,
   "metadata": {
    "colab": {
     "height": 3497
    },
    "colab_type": "code",
    "executionInfo": {
     "elapsed": 815477,
     "status": "ok",
     "timestamp": 1558918396278,
     "user": {
      "displayName": "Laurence Moroney",
      "photoUrl": "https://lh3.googleusercontent.com/-RcxktLY-TBk/AAAAAAAAAAI/AAAAAAAAABY/b4V4dTIqmPI/s64/photo.jpg",
      "userId": "06401446828348966425"
     },
     "user_tz": 420
    },
    "id": "w9vH8Y59ajYL",
    "outputId": "c8cd3256-d2f7-4b9e-b10a-b2b0538bb246"
   },
   "outputs": [
    {
     "name": "stdout",
     "output_type": "stream",
     "text": [
      "Train on 12038 samples\n",
      "Epoch 1/100\n",
      "12038/12038 [==============================] - 10s 792us/sample - loss: 6.5978 - accuracy: 0.0819\n",
      "Epoch 2/100\n",
      "12038/12038 [==============================] - 7s 563us/sample - loss: 5.6403 - accuracy: 0.1214\n",
      "Epoch 3/100\n",
      "12038/12038 [==============================] - 7s 561us/sample - loss: 4.7148 - accuracy: 0.1785\n",
      "Epoch 4/100\n",
      "12038/12038 [==============================] - 7s 563us/sample - loss: 3.7568 - accuracy: 0.2587\n",
      "Epoch 5/100\n",
      "12038/12038 [==============================] - 7s 558us/sample - loss: 3.0197 - accuracy: 0.3598\n",
      "Epoch 6/100\n",
      "12038/12038 [==============================] - 7s 565us/sample - loss: 2.7338 - accuracy: 0.4074\n",
      "Epoch 7/100\n",
      "12038/12038 [==============================] - 7s 550us/sample - loss: 2.0077 - accuracy: 0.5281\n",
      "Epoch 8/100\n",
      "12038/12038 [==============================] - 7s 556us/sample - loss: 1.6083 - accuracy: 0.6188\n",
      "Epoch 9/100\n",
      "12038/12038 [==============================] - 7s 557us/sample - loss: 1.4140 - accuracy: 0.6600\n",
      "Epoch 10/100\n",
      "12038/12038 [==============================] - 7s 560us/sample - loss: 1.2641 - accuracy: 0.6931\n",
      "Epoch 11/100\n",
      "12038/12038 [==============================] - 7s 558us/sample - loss: 1.1761 - accuracy: 0.7168\n",
      "Epoch 12/100\n",
      "12038/12038 [==============================] - 7s 560us/sample - loss: 1.1362 - accuracy: 0.7218\n",
      "Epoch 13/100\n",
      "12038/12038 [==============================] - 7s 561us/sample - loss: 1.2091 - accuracy: 0.7074\n",
      "Epoch 14/100\n",
      "12038/12038 [==============================] - 7s 563us/sample - loss: 1.3110 - accuracy: 0.6738\n",
      "Epoch 15/100\n",
      "12038/12038 [==============================] - 7s 559us/sample - loss: 1.2563 - accuracy: 0.6862\n",
      "Epoch 16/100\n",
      "12038/12038 [==============================] - 7s 559us/sample - loss: 1.2332 - accuracy: 0.6928\n",
      "Epoch 17/100\n",
      "12038/12038 [==============================] - 7s 565us/sample - loss: 1.2267 - accuracy: 0.6995\n",
      "Epoch 18/100\n",
      "12038/12038 [==============================] - 7s 559us/sample - loss: 1.0529 - accuracy: 0.7415\n",
      "Epoch 19/100\n",
      "12038/12038 [==============================] - 7s 560us/sample - loss: 0.9625 - accuracy: 0.7618\n",
      "Epoch 20/100\n",
      "12038/12038 [==============================] - 7s 565us/sample - loss: 0.9423 - accuracy: 0.7672\n",
      "Epoch 21/100\n",
      "12038/12038 [==============================] - 7s 554us/sample - loss: 0.9516 - accuracy: 0.7611\n",
      "Epoch 22/100\n",
      "12038/12038 [==============================] - 7s 554us/sample - loss: 1.0530 - accuracy: 0.7365\n",
      "Epoch 23/100\n",
      "12038/12038 [==============================] - 7s 558us/sample - loss: 1.1566 - accuracy: 0.7082\n",
      "Epoch 24/100\n",
      "12038/12038 [==============================] - 7s 551us/sample - loss: 1.2017 - accuracy: 0.6944\n",
      "Epoch 25/100\n",
      "12038/12038 [==============================] - 7s 557us/sample - loss: 1.1622 - accuracy: 0.7024\n",
      "Epoch 26/100\n",
      "12038/12038 [==============================] - 7s 561us/sample - loss: 1.0585 - accuracy: 0.7295\n",
      "Epoch 27/100\n",
      "12038/12038 [==============================] - 7s 560us/sample - loss: 0.9621 - accuracy: 0.7564\n",
      "Epoch 28/100\n",
      "12038/12038 [==============================] - 7s 561us/sample - loss: 0.9097 - accuracy: 0.7730\n",
      "Epoch 29/100\n",
      "12038/12038 [==============================] - 7s 561us/sample - loss: 0.8787 - accuracy: 0.7780\n",
      "Epoch 30/100\n",
      "12038/12038 [==============================] - 7s 562us/sample - loss: 0.9101 - accuracy: 0.7703\n",
      "Epoch 31/100\n",
      "12038/12038 [==============================] - 7s 565us/sample - loss: 1.0415 - accuracy: 0.7334\n",
      "Epoch 32/100\n",
      "12038/12038 [==============================] - 7s 562us/sample - loss: 1.1894 - accuracy: 0.6998\n",
      "Epoch 33/100\n",
      "12038/12038 [==============================] - 7s 554us/sample - loss: 1.2512 - accuracy: 0.6912\n",
      "Epoch 34/100\n",
      "12038/12038 [==============================] - 7s 555us/sample - loss: 1.1400 - accuracy: 0.7170\n",
      "Epoch 35/100\n",
      "12038/12038 [==============================] - 7s 556us/sample - loss: 0.9989 - accuracy: 0.7461\n",
      "Epoch 36/100\n",
      "12038/12038 [==============================] - 7s 560us/sample - loss: 0.9185 - accuracy: 0.7717\n",
      "Epoch 37/100\n",
      "12038/12038 [==============================] - 7s 557us/sample - loss: 0.8787 - accuracy: 0.7805\n",
      "Epoch 38/100\n",
      "12038/12038 [==============================] - 7s 566us/sample - loss: 0.8789 - accuracy: 0.7790\n",
      "Epoch 39/100\n",
      "12038/12038 [==============================] - 7s 562us/sample - loss: 0.9713 - accuracy: 0.7533\n",
      "Epoch 40/100\n",
      "12038/12038 [==============================] - 7s 561us/sample - loss: 1.1117 - accuracy: 0.7245\n",
      "Epoch 41/100\n",
      "12038/12038 [==============================] - 7s 555us/sample - loss: 1.1215 - accuracy: 0.7157\n",
      "Epoch 42/100\n",
      "12038/12038 [==============================] - 7s 557us/sample - loss: 1.1573 - accuracy: 0.7101\n",
      "Epoch 43/100\n",
      "12038/12038 [==============================] - 7s 556us/sample - loss: 1.0812 - accuracy: 0.7248\n",
      "Epoch 44/100\n",
      "12038/12038 [==============================] - 7s 561us/sample - loss: 1.0140 - accuracy: 0.7433\n",
      "Epoch 45/100\n",
      "12038/12038 [==============================] - 7s 558us/sample - loss: 1.0037 - accuracy: 0.7461\n",
      "Epoch 46/100\n",
      "12038/12038 [==============================] - 7s 563us/sample - loss: 1.0314 - accuracy: 0.7412\n",
      "Epoch 47/100\n",
      "12038/12038 [==============================] - 7s 565us/sample - loss: 1.0525 - accuracy: 0.7347\n",
      "Epoch 48/100\n",
      "12038/12038 [==============================] - 7s 560us/sample - loss: 1.0358 - accuracy: 0.7381\n",
      "Epoch 49/100\n",
      "12038/12038 [==============================] - 7s 565us/sample - loss: 1.0007 - accuracy: 0.7480\n",
      "Epoch 50/100\n",
      "12038/12038 [==============================] - 7s 553us/sample - loss: 1.0017 - accuracy: 0.7484\n",
      "Epoch 51/100\n",
      "12038/12038 [==============================] - 7s 557us/sample - loss: 0.9392 - accuracy: 0.7643\n",
      "Epoch 52/100\n",
      "12038/12038 [==============================] - 7s 554us/sample - loss: 0.9360 - accuracy: 0.7640\n",
      "Epoch 53/100\n",
      "12038/12038 [==============================] - 7s 563us/sample - loss: 0.9527 - accuracy: 0.7596\n",
      "Epoch 54/100\n",
      "12038/12038 [==============================] - 7s 550us/sample - loss: 0.9826 - accuracy: 0.7540\n",
      "Epoch 55/100\n",
      "12038/12038 [==============================] - 7s 567us/sample - loss: 0.9844 - accuracy: 0.7495\n",
      "Epoch 56/100\n",
      "12038/12038 [==============================] - 7s 555us/sample - loss: 1.0460 - accuracy: 0.7392\n",
      "Epoch 57/100\n",
      "12038/12038 [==============================] - 7s 560us/sample - loss: 1.0484 - accuracy: 0.7338\n",
      "Epoch 58/100\n",
      "12038/12038 [==============================] - 7s 566us/sample - loss: 0.9538 - accuracy: 0.7569\n",
      "Epoch 59/100\n",
      "12038/12038 [==============================] - 7s 561us/sample - loss: 0.9405 - accuracy: 0.7629\n",
      "Epoch 60/100\n",
      "12038/12038 [==============================] - 7s 551us/sample - loss: 0.8953 - accuracy: 0.7765\n",
      "Epoch 61/100\n",
      "12038/12038 [==============================] - 7s 557us/sample - loss: 0.8898 - accuracy: 0.7725\n",
      "Epoch 62/100\n",
      "12038/12038 [==============================] - 7s 552us/sample - loss: 0.9417 - accuracy: 0.7625\n",
      "Epoch 63/100\n",
      "12038/12038 [==============================] - 7s 547us/sample - loss: 1.0539 - accuracy: 0.7416\n",
      "Epoch 64/100\n",
      "12038/12038 [==============================] - 7s 556us/sample - loss: 1.1039 - accuracy: 0.7327\n",
      "Epoch 65/100\n",
      "12038/12038 [==============================] - 7s 551us/sample - loss: 1.0759 - accuracy: 0.7319\n",
      "Epoch 66/100\n",
      "12038/12038 [==============================] - 7s 552us/sample - loss: 1.0099 - accuracy: 0.7524\n",
      "Epoch 67/100\n",
      "12038/12038 [==============================] - 7s 556us/sample - loss: 1.0874 - accuracy: 0.7325\n",
      "Epoch 68/100\n",
      "12038/12038 [==============================] - 7s 555us/sample - loss: 1.0476 - accuracy: 0.7369\n",
      "Epoch 69/100\n",
      "12038/12038 [==============================] - 7s 551us/sample - loss: 1.0055 - accuracy: 0.7473\n",
      "Epoch 70/100\n",
      "12038/12038 [==============================] - 7s 548us/sample - loss: 0.9682 - accuracy: 0.7577\n",
      "Epoch 71/100\n",
      "12038/12038 [==============================] - 7s 550us/sample - loss: 0.9476 - accuracy: 0.7626\n",
      "Epoch 72/100\n",
      "12038/12038 [==============================] - 7s 552us/sample - loss: 0.9119 - accuracy: 0.7726\n",
      "Epoch 73/100\n",
      "12038/12038 [==============================] - 7s 556us/sample - loss: 0.8972 - accuracy: 0.7740\n",
      "Epoch 74/100\n",
      "12038/12038 [==============================] - 7s 562us/sample - loss: 0.9174 - accuracy: 0.7686\n",
      "Epoch 75/100\n"
     ]
    },
    {
     "name": "stdout",
     "output_type": "stream",
     "text": [
      "12038/12038 [==============================] - 7s 553us/sample - loss: 0.9117 - accuracy: 0.7697\n",
      "Epoch 76/100\n",
      "12038/12038 [==============================] - 7s 557us/sample - loss: 0.9572 - accuracy: 0.7578\n",
      "Epoch 77/100\n",
      "12038/12038 [==============================] - 7s 553us/sample - loss: 0.9381 - accuracy: 0.7589\n",
      "Epoch 78/100\n",
      "12038/12038 [==============================] - 7s 548us/sample - loss: 0.9247 - accuracy: 0.7668\n",
      "Epoch 79/100\n",
      "12038/12038 [==============================] - 7s 555us/sample - loss: 1.0221 - accuracy: 0.7464\n",
      "Epoch 80/100\n",
      "12038/12038 [==============================] - 7s 553us/sample - loss: 1.0155 - accuracy: 0.7490\n",
      "Epoch 81/100\n",
      "12038/12038 [==============================] - 7s 552us/sample - loss: 1.0354 - accuracy: 0.7431\n",
      "Epoch 82/100\n",
      "12038/12038 [==============================] - 7s 552us/sample - loss: 1.0190 - accuracy: 0.7461\n",
      "Epoch 83/100\n",
      "12038/12038 [==============================] - 7s 554us/sample - loss: 0.9686 - accuracy: 0.7601\n",
      "Epoch 84/100\n",
      "12038/12038 [==============================] - 7s 554us/sample - loss: 0.9969 - accuracy: 0.7588\n",
      "Epoch 85/100\n",
      "12038/12038 [==============================] - 7s 558us/sample - loss: 0.9556 - accuracy: 0.7651\n",
      "Epoch 86/100\n",
      "12038/12038 [==============================] - 7s 556us/sample - loss: 0.9577 - accuracy: 0.7632\n",
      "Epoch 87/100\n",
      "12038/12038 [==============================] - 7s 552us/sample - loss: 0.9588 - accuracy: 0.7621\n",
      "Epoch 88/100\n",
      "12038/12038 [==============================] - 7s 553us/sample - loss: 0.9534 - accuracy: 0.7656\n",
      "Epoch 89/100\n",
      "12038/12038 [==============================] - 7s 556us/sample - loss: 0.9230 - accuracy: 0.7731\n",
      "Epoch 90/100\n",
      "12038/12038 [==============================] - 7s 555us/sample - loss: 0.9375 - accuracy: 0.7651\n",
      "Epoch 91/100\n",
      "12038/12038 [==============================] - 7s 558us/sample - loss: 0.9851 - accuracy: 0.7579\n",
      "Epoch 92/100\n",
      "12038/12038 [==============================] - 7s 554us/sample - loss: 0.9399 - accuracy: 0.7696\n",
      "Epoch 93/100\n",
      "12038/12038 [==============================] - 7s 554us/sample - loss: 0.9064 - accuracy: 0.7737\n",
      "Epoch 94/100\n",
      "12038/12038 [==============================] - 7s 554us/sample - loss: 0.8793 - accuracy: 0.7823\n",
      "Epoch 95/100\n",
      "12038/12038 [==============================] - 7s 554us/sample - loss: 0.8879 - accuracy: 0.7786\n",
      "Epoch 96/100\n",
      "12038/12038 [==============================] - 7s 552us/sample - loss: 0.9469 - accuracy: 0.7661\n",
      "Epoch 97/100\n",
      "12038/12038 [==============================] - 7s 555us/sample - loss: 1.0417 - accuracy: 0.7509\n",
      "Epoch 98/100\n",
      "12038/12038 [==============================] - 7s 557us/sample - loss: 1.0302 - accuracy: 0.7446\n",
      "Epoch 99/100\n",
      "12038/12038 [==============================] - 7s 566us/sample - loss: 0.9767 - accuracy: 0.7553\n",
      "Epoch 100/100\n",
      "12038/12038 [==============================] - 7s 563us/sample - loss: 0.9144 - accuracy: 0.7733\n",
      "<tensorflow.python.keras.engine.sequential.Sequential object at 0x7fac797f4650>\n"
     ]
    }
   ],
   "source": [
    "model = Sequential()\n",
    "model.add(Embedding(total_words, 100, input_length=max_sequence_len-1))\n",
    "model.add(Bidirectional(LSTM(150)))\n",
    "model.add(Dense(total_words, activation='softmax'))\n",
    "adam = Adam(lr=0.01)\n",
    "model.compile(loss='categorical_crossentropy', optimizer=adam, metrics=['accuracy'])\n",
    "#earlystop = EarlyStopping(monitor='val_loss', min_delta=0, patience=5, verbose=0, mode='auto')\n",
    "history = model.fit(xs, ys, epochs=100, verbose=1)\n",
    "#print model.summary()\n",
    "print(model)\n"
   ]
  },
  {
   "cell_type": "code",
   "execution_count": 15,
   "metadata": {
    "colab": {},
    "colab_type": "code",
    "id": "3YXGelKThoTT"
   },
   "outputs": [],
   "source": [
    "import matplotlib.pyplot as plt\n",
    "\n",
    "def plot_graphs(history, string):\n",
    "  plt.style.use('seaborn')\n",
    "  plt.plot(history.history[string])\n",
    "  plt.xlabel(\"Epochs\")\n",
    "  plt.ylabel(string)\n",
    "  plt.show()"
   ]
  },
  {
   "cell_type": "code",
   "execution_count": 16,
   "metadata": {
    "colab": {
     "height": 297
    },
    "colab_type": "code",
    "executionInfo": {
     "elapsed": 576,
     "status": "ok",
     "timestamp": 1558918412141,
     "user": {
      "displayName": "Laurence Moroney",
      "photoUrl": "https://lh3.googleusercontent.com/-RcxktLY-TBk/AAAAAAAAAAI/AAAAAAAAABY/b4V4dTIqmPI/s64/photo.jpg",
      "userId": "06401446828348966425"
     },
     "user_tz": 420
    },
    "id": "poeprYK8h-c7",
    "outputId": "ffaf6f0e-fcbc-450d-d872-884c24f8bb08"
   },
   "outputs": [
    {
     "data": {
      "image/png": "[encoded data removed]",
      "text/plain": [
       "<Figure size 576x396 with 1 Axes>"
      ]
     },
     "metadata": {},
     "output_type": "display_data"
    }
   ],
   "source": [
    "plot_graphs(history, 'accuracy')\n"
   ]
  },
  {
   "cell_type": "code",
   "execution_count": 17,
   "metadata": {
    "colab": {
     "height": 54
    },
    "colab_type": "code",
    "executionInfo": {
     "elapsed": 1590,
     "status": "ok",
     "timestamp": 1558930962952,
     "user": {
      "displayName": "Laurence Moroney",
      "photoUrl": "https://lh3.googleusercontent.com/-RcxktLY-TBk/AAAAAAAAAAI/AAAAAAAAABY/b4V4dTIqmPI/s64/photo.jpg",
      "userId": "06401446828348966425"
     },
     "user_tz": 420
    },
    "id": "6Vc6PHgxa6Hm",
    "outputId": "5912b513-dac1-4129-c2e6-0bdf4caeef8d"
   },
   "outputs": [
    {
     "name": "stdout",
     "output_type": "stream",
     "text": [
      "I've got a bad feeling about this round the room heavy see again kathleen seen is gone by single ball right right leg grow poisoning are sacked are war is gone i hired a high calling calling yore i lovd best only another i love best tune truth gone tempest love tempest flood back else to sweet athy tempest love of my own bride and waxes kind true else ill expire courting else now is gone across the floor are calling or writin god had right damsel with spancil hill hill de rah nor autumn gone gone gone gone across i care stand from your hat and\n"
     ]
    }
   ],
   "source": [
    "seed_text = \"I've got a bad feeling about this\"\n",
    "next_words = 100\n",
    "  \n",
    "for _ in range(next_words):\n",
    "\ttoken_list = tokenizer.texts_to_sequences([seed_text])[0]\n",
    "\ttoken_list = pad_sequences([token_list], maxlen=max_sequence_len-1, padding='pre')\n",
    "\tpredicted = model.predict_classes(token_list, verbose=0)\n",
    "\toutput_word = \"\"\n",
    "\tfor word, index in tokenizer.word_index.items():\n",
    "\t\tif index == predicted:\n",
    "\t\t\toutput_word = word\n",
    "\t\t\tbreak\n",
    "\tseed_text += \" \" + output_word\n",
    "print(seed_text)"
   ]
  },
  {
   "cell_type": "code",
   "execution_count": null,
   "metadata": {},
   "outputs": [],
   "source": []
  }
 ],
 "metadata": {
  "accelerator": "GPU",
  "colab": {
   "name": "Course 3 - Week 1 - Lesson 2 - Notebook.ipynb",
   "provenance": [
    {
     "file_id": "1Zn6Lgn4cEJiA_uHym2oOWtQcsjwwGFG1",
     "timestamp": 1558732299987
    },
    {
     "file_id": "1V60jn23JMcMpwhF-KvCTYIIfm4J2X6v5",
     "timestamp": 1558707866173
    }
   ],
   "version": "0.3.2"
  },
  "kernelspec": {
   "display_name": "tf2",
   "language": "python",
   "name": "tf2"
  },
  "language_info": {
   "codemirror_mode": {
    "name": "ipython",
    "version": 3
   },
   "file_extension": ".py",
   "mimetype": "text/x-python",
   "name": "python",
   "nbconvert_exporter": "python",
   "pygments_lexer": "ipython3",
   "version": "3.7.5"
  }
 },
 "nbformat": 4,
 "nbformat_minor": 1
}
