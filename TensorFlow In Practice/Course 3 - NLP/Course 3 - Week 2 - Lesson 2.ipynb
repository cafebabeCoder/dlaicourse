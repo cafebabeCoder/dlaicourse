{
 "cells": [
  {
   "cell_type": "markdown",
   "metadata": {
    "colab_type": "text",
    "id": "view-in-github"
   },
   "source": [
    "<a href=\"https://colab.research.google.com/github/lmoroney/dlaicourse/blob/master/TensorFlow%20In%20Practice/Course%203%20-%20NLP/Course%203%20-%20Week%202%20-%20Lesson%202.ipynb\" target=\"_parent\"><img src=\"https://colab.research.google.com/assets/colab-badge.svg\" alt=\"Open In Colab\"/></a>"
   ]
  },
  {
   "cell_type": "code",
   "execution_count": 1,
   "metadata": {
    "colab": {},
    "colab_type": "code",
    "id": "4gs9htvM7n_x"
   },
   "outputs": [],
   "source": [
    "# Run this to ensure TensorFlow 2.x is used\n",
    "try:\n",
    "  # %tensorflow_version only exists in Colab.\n",
    "  %tensorflow_version 2.x\n",
    "except Exception:\n",
    "  pass"
   ]
  },
  {
   "cell_type": "code",
   "execution_count": 2,
   "metadata": {
    "colab": {},
    "colab_type": "code",
    "id": "XYYDvoskkE61"
   },
   "outputs": [],
   "source": [
    "import json\n",
    "import tensorflow as tf\n",
    "\n",
    "from tensorflow.keras.preprocessing.text import Tokenizer\n",
    "from tensorflow.keras.preprocessing.sequence import pad_sequences"
   ]
  },
  {
   "cell_type": "code",
   "execution_count": 3,
   "metadata": {
    "colab": {},
    "colab_type": "code",
    "id": "0eJSTTYnkJQd"
   },
   "outputs": [],
   "source": [
    "vocab_size = 10000\n",
    "embedding_dim = 16\n",
    "max_length = 100\n",
    "trunc_type='post'\n",
    "padding_type='post'\n",
    "oov_tok = \"<OOV>\"\n",
    "training_size = 20000\n"
   ]
  },
  {
   "cell_type": "code",
   "execution_count": 0,
   "metadata": {
    "colab": {},
    "colab_type": "code",
    "id": "BQVuQrZNkPn9"
   },
   "outputs": [],
   "source": [
    "!wget --no-check-certificate \\\n",
    "    https://storage.googleapis.com/laurencemoroney-blog.appspot.com/sarcasm.json \\\n",
    "    -O /tmp/sarcasm.json\n"
   ]
  },
  {
   "cell_type": "code",
   "execution_count": 4,
   "metadata": {
    "colab": {},
    "colab_type": "code",
    "id": "oaLaaqhNkUPd"
   },
   "outputs": [],
   "source": [
    "with open(\"/tmp/sarcasm.json\", 'r') as f:\n",
    "    datastore = json.load(f)\n",
    "\n",
    "sentences = []\n",
    "labels = []\n",
    "\n",
    "for item in datastore:\n",
    "    sentences.append(item['headline'])\n",
    "    labels.append(item['is_sarcastic'])"
   ]
  },
  {
   "cell_type": "code",
   "execution_count": 5,
   "metadata": {
    "colab": {},
    "colab_type": "code",
    "id": "S1sD-7v0kYWk"
   },
   "outputs": [],
   "source": [
    "training_sentences = sentences[0:training_size]\n",
    "testing_sentences = sentences[training_size:]\n",
    "training_labels = labels[0:training_size]\n",
    "testing_labels = labels[training_size:]"
   ]
  },
  {
   "cell_type": "code",
   "execution_count": 22,
   "metadata": {},
   "outputs": [
    {
     "name": "stdout",
     "output_type": "stream",
     "text": [
      "[\"former versace store clerk sues over secret 'black code' for minority shoppers\"]\n",
      "[0]\n"
     ]
    }
   ],
   "source": [
    "print(training_sentences[:1])\n",
    "print(training_labels[:1])"
   ]
  },
  {
   "cell_type": "code",
   "execution_count": 6,
   "metadata": {
    "colab": {},
    "colab_type": "code",
    "id": "3u8UB0MCkZ5N"
   },
   "outputs": [],
   "source": [
    "tokenizer = Tokenizer(num_words=vocab_size, oov_token=oov_tok)\n",
    "tokenizer.fit_on_texts(training_sentences)\n",
    "\n",
    "word_index = tokenizer.word_index\n",
    "\n",
    "training_sequences = tokenizer.texts_to_sequences(training_sentences)\n",
    "training_padded = pad_sequences(training_sequences, maxlen=max_length, padding=padding_type, truncating=trunc_type)\n",
    "\n",
    "testing_sequences = tokenizer.texts_to_sequences(testing_sentences)\n",
    "testing_padded = pad_sequences(testing_sequences, maxlen=max_length, padding=padding_type, truncating=trunc_type)"
   ]
  },
  {
   "cell_type": "code",
   "execution_count": 7,
   "metadata": {
    "colab": {},
    "colab_type": "code",
    "id": "GrAlWBKf99Ya"
   },
   "outputs": [],
   "source": [
    "# Need this block to get it to work with TensorFlow 2.x\n",
    "import numpy as np\n",
    "training_padded = np.array(training_padded)\n",
    "training_labels = np.array(training_labels)\n",
    "testing_padded = np.array(testing_padded)\n",
    "testing_labels = np.array(testing_labels)"
   ]
  },
  {
   "cell_type": "code",
   "execution_count": 8,
   "metadata": {
    "colab": {},
    "colab_type": "code",
    "id": "FufaT4vlkiDE"
   },
   "outputs": [],
   "source": [
    "model = tf.keras.Sequential([\n",
    "    tf.keras.layers.Embedding(vocab_size, embedding_dim, input_length=max_length),\n",
    "    tf.keras.layers.GlobalAveragePooling1D(),\n",
    "    tf.keras.layers.Dense(24, activation='relu'),\n",
    "    tf.keras.layers.Dense(1, activation='sigmoid')\n",
    "])\n",
    "model.compile(loss='binary_crossentropy',optimizer='adam',metrics=['accuracy'])"
   ]
  },
  {
   "cell_type": "code",
   "execution_count": 9,
   "metadata": {
    "colab": {},
    "colab_type": "code",
    "id": "XfDt1hmYkiys"
   },
   "outputs": [
    {
     "name": "stdout",
     "output_type": "stream",
     "text": [
      "Model: \"sequential\"\n",
      "_________________________________________________________________\n",
      "Layer (type)                 Output Shape              Param #   \n",
      "=================================================================\n",
      "embedding (Embedding)        (None, 100, 16)           160000    \n",
      "_________________________________________________________________\n",
      "global_average_pooling1d (Gl (None, 16)                0         \n",
      "_________________________________________________________________\n",
      "dense (Dense)                (None, 24)                408       \n",
      "_________________________________________________________________\n",
      "dense_1 (Dense)              (None, 1)                 25        \n",
      "=================================================================\n",
      "Total params: 160,433\n",
      "Trainable params: 160,433\n",
      "Non-trainable params: 0\n",
      "_________________________________________________________________\n"
     ]
    }
   ],
   "source": [
    "model.summary()\n"
   ]
  },
  {
   "cell_type": "code",
   "execution_count": 10,
   "metadata": {
    "colab": {},
    "colab_type": "code",
    "id": "2DTKQFf1kkyc"
   },
   "outputs": [
    {
     "name": "stdout",
     "output_type": "stream",
     "text": [
      "Train on 20000 samples, validate on 6709 samples\n",
      "Epoch 1/30\n",
      "20000/20000 - 2s - loss: 0.6676 - accuracy: 0.5827 - val_loss: 0.5961 - val_accuracy: 0.8086\n",
      "Epoch 2/30\n",
      "20000/20000 - 1s - loss: 0.4291 - accuracy: 0.8310 - val_loss: 0.3854 - val_accuracy: 0.8328\n",
      "Epoch 3/30\n",
      "20000/20000 - 1s - loss: 0.3054 - accuracy: 0.8774 - val_loss: 0.3506 - val_accuracy: 0.8526\n",
      "Epoch 4/30\n",
      "20000/20000 - 1s - loss: 0.2539 - accuracy: 0.9006 - val_loss: 0.3414 - val_accuracy: 0.8584\n",
      "Epoch 5/30\n",
      "20000/20000 - 1s - loss: 0.2176 - accuracy: 0.9161 - val_loss: 0.3448 - val_accuracy: 0.8577\n",
      "Epoch 6/30\n",
      "20000/20000 - 1s - loss: 0.1916 - accuracy: 0.9264 - val_loss: 0.3531 - val_accuracy: 0.8530\n",
      "Epoch 7/30\n",
      "20000/20000 - 1s - loss: 0.1689 - accuracy: 0.9355 - val_loss: 0.3691 - val_accuracy: 0.8544\n",
      "Epoch 8/30\n",
      "20000/20000 - 1s - loss: 0.1510 - accuracy: 0.9435 - val_loss: 0.3901 - val_accuracy: 0.8474\n",
      "Epoch 9/30\n",
      "20000/20000 - 1s - loss: 0.1364 - accuracy: 0.9506 - val_loss: 0.4094 - val_accuracy: 0.8456\n",
      "Epoch 10/30\n",
      "20000/20000 - 1s - loss: 0.1243 - accuracy: 0.9556 - val_loss: 0.4228 - val_accuracy: 0.8512\n",
      "Epoch 11/30\n",
      "20000/20000 - 1s - loss: 0.1110 - accuracy: 0.9614 - val_loss: 0.4761 - val_accuracy: 0.8340\n",
      "Epoch 12/30\n",
      "20000/20000 - 1s - loss: 0.1013 - accuracy: 0.9649 - val_loss: 0.4745 - val_accuracy: 0.8456\n",
      "Epoch 13/30\n",
      "20000/20000 - 1s - loss: 0.0925 - accuracy: 0.9692 - val_loss: 0.5211 - val_accuracy: 0.8359\n",
      "Epoch 14/30\n",
      "20000/20000 - 1s - loss: 0.0848 - accuracy: 0.9712 - val_loss: 0.5300 - val_accuracy: 0.8404\n",
      "Epoch 15/30\n",
      "20000/20000 - 1s - loss: 0.0767 - accuracy: 0.9757 - val_loss: 0.5620 - val_accuracy: 0.8378\n",
      "Epoch 16/30\n",
      "20000/20000 - 1s - loss: 0.0717 - accuracy: 0.9769 - val_loss: 0.5956 - val_accuracy: 0.8353\n",
      "Epoch 17/30\n",
      "20000/20000 - 1s - loss: 0.0647 - accuracy: 0.9793 - val_loss: 0.6272 - val_accuracy: 0.8340\n",
      "Epoch 18/30\n",
      "20000/20000 - 1s - loss: 0.0591 - accuracy: 0.9815 - val_loss: 0.6733 - val_accuracy: 0.8302\n",
      "Epoch 19/30\n",
      "20000/20000 - 1s - loss: 0.0534 - accuracy: 0.9834 - val_loss: 0.7195 - val_accuracy: 0.8271\n",
      "Epoch 20/30\n",
      "20000/20000 - 1s - loss: 0.0500 - accuracy: 0.9840 - val_loss: 0.7583 - val_accuracy: 0.8241\n",
      "Epoch 21/30\n",
      "20000/20000 - 1s - loss: 0.0471 - accuracy: 0.9848 - val_loss: 0.7887 - val_accuracy: 0.8237\n",
      "Epoch 22/30\n",
      "20000/20000 - 1s - loss: 0.0410 - accuracy: 0.9873 - val_loss: 0.8171 - val_accuracy: 0.8201\n",
      "Epoch 23/30\n",
      "20000/20000 - 1s - loss: 0.0396 - accuracy: 0.9880 - val_loss: 0.8624 - val_accuracy: 0.8196\n",
      "Epoch 24/30\n",
      "20000/20000 - 1s - loss: 0.0373 - accuracy: 0.9886 - val_loss: 0.8845 - val_accuracy: 0.8210\n",
      "Epoch 25/30\n",
      "20000/20000 - 1s - loss: 0.0340 - accuracy: 0.9901 - val_loss: 0.9320 - val_accuracy: 0.8179\n",
      "Epoch 26/30\n",
      "20000/20000 - 1s - loss: 0.0317 - accuracy: 0.9904 - val_loss: 0.9604 - val_accuracy: 0.8174\n",
      "Epoch 27/30\n",
      "20000/20000 - 1s - loss: 0.0287 - accuracy: 0.9917 - val_loss: 1.0017 - val_accuracy: 0.8159\n",
      "Epoch 28/30\n",
      "20000/20000 - 1s - loss: 0.0274 - accuracy: 0.9919 - val_loss: 1.0528 - val_accuracy: 0.8140\n",
      "Epoch 29/30\n",
      "20000/20000 - 1s - loss: 0.0236 - accuracy: 0.9934 - val_loss: 1.0743 - val_accuracy: 0.8137\n",
      "Epoch 30/30\n",
      "20000/20000 - 1s - loss: 0.0243 - accuracy: 0.9932 - val_loss: 1.0985 - val_accuracy: 0.8132\n"
     ]
    }
   ],
   "source": [
    "num_epochs = 30\n",
    "history = model.fit(training_padded, training_labels, epochs=num_epochs, validation_data=(testing_padded, testing_labels), verbose=2)"
   ]
  },
  {
   "cell_type": "code",
   "execution_count": 18,
   "metadata": {
    "colab": {},
    "colab_type": "code",
    "id": "2HYfBKXjkmU8"
   },
   "outputs": [
    {
     "data": {
      "image/png": "[encoded data removed]",
      "text/plain": [
       "<Figure size 576x396 with 1 Axes>"
      ]
     },
     "metadata": {},
     "output_type": "display_data"
    },
    {
     "data": {
      "image/png": "[encoded data removed]",
      "text/plain": [
       "<Figure size 576x396 with 1 Axes>"
      ]
     },
     "metadata": {},
     "output_type": "display_data"
    }
   ],
   "source": [
    "import matplotlib.pyplot as plt\n",
    "\n",
    "plt.style.use('seaborn')\n",
    "def plot_graphs(history, string):\n",
    "  plt.plot(history.history[string])\n",
    "  plt.plot(history.history['val_'+string], 'r--')\n",
    "  plt.xlabel(\"Epochs\")\n",
    "  plt.ylabel(string)\n",
    "  plt.legend([string, 'val_'+string])\n",
    "  plt.show()\n",
    "  \n",
    "plot_graphs(history, \"accuracy\")\n",
    "plot_graphs(history, \"loss\")"
   ]
  },
  {
   "cell_type": "code",
   "execution_count": 19,
   "metadata": {
    "colab": {},
    "colab_type": "code",
    "id": "7SBdAZAenvzL"
   },
   "outputs": [
    {
     "name": "stdout",
     "output_type": "stream",
     "text": [
      "former <OOV> store clerk sues over secret 'black <OOV> for minority shoppers ? ? ? ? ? ? ? ? ? ? ? ? ? ? ? ? ? ? ? ? ? ? ? ? ? ? ? ? ? ? ? ? ? ? ? ? ? ? ? ? ? ? ? ? ? ? ? ? ? ? ? ? ? ? ? ? ? ? ? ? ? ? ? ? ? ? ? ? ? ? ? ? ? ? ? ? ? ? ? ? ? ? ? ? ? ? ? ?\n",
      "mom starting to fear son's web series closest thing she will have to grandchild\n",
      "1\n"
     ]
    }
   ],
   "source": [
    "reverse_word_index = dict([(value, key) for (key, value) in word_index.items()])\n",
    "\n",
    "def decode_sentence(text):\n",
    "    return ' '.join([reverse_word_index.get(i, '?') for i in text])\n",
    "\n",
    "print(decode_sentence(training_padded[0]))\n",
    "print(training_sentences[2])\n",
    "print(labels[2])"
   ]
  },
  {
   "cell_type": "code",
   "execution_count": 20,
   "metadata": {
    "colab": {},
    "colab_type": "code",
    "id": "c9MqihtEkzQ9"
   },
   "outputs": [
    {
     "name": "stdout",
     "output_type": "stream",
     "text": [
      "(10000, 16)\n"
     ]
    }
   ],
   "source": [
    "e = model.layers[0]\n",
    "weights = e.get_weights()[0]\n",
    "print(weights.shape) # shape: (vocab_size, embedding_dim)\n"
   ]
  },
  {
   "cell_type": "code",
   "execution_count": 0,
   "metadata": {
    "colab": {},
    "colab_type": "code",
    "id": "LoBXVffknldU"
   },
   "outputs": [],
   "source": [
    "import io\n",
    "\n",
    "out_v = io.open('vecs.tsv', 'w', encoding='utf-8')\n",
    "out_m = io.open('meta.tsv', 'w', encoding='utf-8')\n",
    "for word_num in range(1, vocab_size):\n",
    "  word = reverse_word_index[word_num]\n",
    "  embeddings = weights[word_num]\n",
    "  out_m.write(word + \"\\n\")\n",
    "  out_v.write('\\t'.join([str(x) for x in embeddings]) + \"\\n\")\n",
    "out_v.close()\n",
    "out_m.close()"
   ]
  },
  {
   "cell_type": "code",
   "execution_count": 0,
   "metadata": {
    "colab": {},
    "colab_type": "code",
    "id": "U4eZ5HtVnnEE"
   },
   "outputs": [],
   "source": [
    "try:\n",
    "  from google.colab import files\n",
    "except ImportError:\n",
    "  pass\n",
    "else:\n",
    "  files.download('vecs.tsv')\n",
    "  files.download('meta.tsv')"
   ]
  },
  {
   "cell_type": "code",
   "execution_count": 21,
   "metadata": {
    "colab": {},
    "colab_type": "code",
    "id": "cG8-ArY-qDcz"
   },
   "outputs": [
    {
     "name": "stdout",
     "output_type": "stream",
     "text": [
      "[[9.5775199e-01]\n",
      " [4.4596213e-06]]\n"
     ]
    }
   ],
   "source": [
    "sentence = [\"granny starting to fear spiders in the garden might be real\", \"game of thrones season finale showing this sunday night\"]\n",
    "sequences = tokenizer.texts_to_sequences(sentence)\n",
    "padded = pad_sequences(sequences, maxlen=max_length, padding=padding_type, truncating=trunc_type)\n",
    "print(model.predict(padded))"
   ]
  },
  {
   "cell_type": "code",
   "execution_count": null,
   "metadata": {},
   "outputs": [],
   "source": []
  }
 ],
 "metadata": {
  "accelerator": "GPU",
  "colab": {
   "collapsed_sections": [],
   "include_colab_link": true,
   "name": "Course 3 - Week 2 - Lesson 2.ipynb",
   "provenance": []
  },
  "kernelspec": {
   "display_name": "tf2",
   "language": "python",
   "name": "tf2"
  },
  "language_info": {
   "codemirror_mode": {
    "name": "ipython",
    "version": 3
   },
   "file_extension": ".py",
   "mimetype": "text/x-python",
   "name": "python",
   "nbconvert_exporter": "python",
   "pygments_lexer": "ipython3",
   "version": "3.7.5"
  }
 },
 "nbformat": 4,
 "nbformat_minor": 1
}
