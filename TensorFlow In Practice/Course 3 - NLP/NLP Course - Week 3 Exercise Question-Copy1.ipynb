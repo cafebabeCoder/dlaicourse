{
 "cells": [
  {
   "cell_type": "code",
   "execution_count": 26,
   "metadata": {
    "colab": {},
    "colab_type": "code",
    "id": "hmA6EzkQJ5jt"
   },
   "outputs": [],
   "source": [
    "import json\n",
    "import tensorflow as tf\n",
    "import csv\n",
    "import random\n",
    "import numpy as np\n",
    "\n",
    "from tensorflow.keras.preprocessing.text import Tokenizer\n",
    "from tensorflow.keras.preprocessing.sequence import pad_sequences\n",
    "from tensorflow.keras.utils import to_categorical\n",
    "from tensorflow.keras import regularizers\n",
    "\n",
    "\n",
    "embedding_dim = 100\n",
    "max_length = 16\n",
    "trunc_type='post'\n",
    "padding_type='post'\n",
    "oov_tok = \"<OOV>\"\n",
    "training_size=160000 #Your dataset size here. Experiment using smaller values (i.e. 16000), but don't forget to train on at least 160000 to see the best effects\n",
    "test_portion=.1\n",
    "\n",
    "corpus = []\n"
   ]
  },
  {
   "cell_type": "code",
   "execution_count": 27,
   "metadata": {
    "colab": {
     "base_uri": "https://localhost:8080/",
     "height": 204
    },
    "colab_type": "code",
    "executionInfo": {
     "elapsed": 7135,
     "status": "ok",
     "timestamp": 1559930021999,
     "user": {
      "displayName": "Laurence Moroney",
      "photoUrl": "https://lh4.googleusercontent.com/-wUzpekukCVw/AAAAAAAAAAI/AAAAAAAAAHw/pQPstOOJqqE/s64/photo.jpg",
      "userId": "17858265307580721507"
     },
     "user_tz": 420
    },
    "id": "bM0l_dORKqE0",
    "outputId": "491ba86b-f780-4355-a4be-765565a29c8c"
   },
   "outputs": [],
   "source": [
    "\n",
    "# Note that I cleaned the Stanford dataset to remove LATIN1 encoding to make it easier for Python CSV reader\n",
    "# You can do that yourself with:\n",
    "# iconv -f LATIN1 -t UTF8 training.1600000.processed.noemoticon.csv -o training_cleaned.csv\n",
    "# I then hosted it on my site to make it easier to use in this notebook\n",
    "\n",
    "# !wget --no-check-certificate \\\n",
    "#     https://storage.googleapis.com/laurencemoroney-blog.appspot.com/training_cleaned.csv \\\n",
    "#     -O /tmp/training_cleaned.csv\n",
    "\n",
    "num_sentences = 0\n",
    "\n",
    "with open(\"/tmp/training_cleaned.csv\") as csvfile:\n",
    "    reader = csv.reader(csvfile, delimiter=',')\n",
    "    for row in reader:\n",
    "      # Your Code here. Create list items where the first item is the text, found in row[5], and the second is the label. Note that the label is a '0' or a '4' in the text. When it's the former, make\n",
    "      # your label to be 0, otherwise 1. Keep a count of the number of sentences in num_sentences\n",
    "        list_item=[]\n",
    "        list_item.append(row[5])\n",
    "        row_label = row[0]\n",
    "        if row_label == '1':\n",
    "            list_item.append(1)\n",
    "        else:\n",
    "            list_item.append(0)\n",
    "        # YOUR CODE HERE\n",
    "        num_sentences = num_sentences + 1\n",
    "        corpus.append(list_item)"
   ]
  },
  {
   "cell_type": "code",
   "execution_count": 28,
   "metadata": {
    "colab": {
     "base_uri": "https://localhost:8080/",
     "height": 68
    },
    "colab_type": "code",
    "executionInfo": {
     "elapsed": 224,
     "status": "ok",
     "timestamp": 1559930024089,
     "user": {
      "displayName": "Laurence Moroney",
      "photoUrl": "https://lh4.googleusercontent.com/-wUzpekukCVw/AAAAAAAAAAI/AAAAAAAAAHw/pQPstOOJqqE/s64/photo.jpg",
      "userId": "17858265307580721507"
     },
     "user_tz": 420
    },
    "id": "3kxblBUjEUX-",
    "outputId": "3c0227a2-e74b-4d9b-cabb-f9ee150571b1"
   },
   "outputs": [
    {
     "name": "stdout",
     "output_type": "stream",
     "text": [
      "1600000\n",
      "1600000\n",
      "[\"is upset that he can't update his Facebook by texting it... and might cry as a result  School today also. Blah!\", 0]\n"
     ]
    }
   ],
   "source": [
    "print(num_sentences)\n",
    "print(len(corpus))\n",
    "print(corpus[1])\n",
    "\n",
    "# Expected Output:\n",
    "# 1600000\n",
    "# 1600000\n",
    "# [\"is upset that he can't update his Facebook by texting it... and might cry as a result  School today also. Blah!\", 0]"
   ]
  },
  {
   "cell_type": "code",
   "execution_count": 101,
   "metadata": {
    "colab": {},
    "colab_type": "code",
    "id": "ohOGz24lsNAD"
   },
   "outputs": [],
   "source": [
    "sentences=[]\n",
    "labels=[]\n",
    "random.shuffle(corpus)\n",
    "for x in range(training_size):\n",
    "    sentences.append(corpus[x][0]) # YOUR CODE HERE)\n",
    "    labels.append(corpus[x][1]) # YOUR CODE HERE)\n",
    "\n",
    "\n",
    "tokenizer = Tokenizer()\n",
    "tokenizer.fit_on_texts(sentences) # YOUR CODE HERE)\n",
    "\n",
    "word_index = tokenizer.word_index\n",
    "vocab_size=len(word_index) # YOUR CODE HERE)\n",
    "\n",
    "sequences = tokenizer.texts_to_sequences(sentences)# YOUR CODE HERE)\n",
    "padded = pad_sequences(sequences, maxlen=max_length, padding=padding_type, truncating=trunc_type)# YOUR CODE HERE)\n",
    "\n",
    "split = int(test_portion * training_size)\n",
    "\n",
    "test_sequences = padded[0:split] # YOUR CODE HERE]\n",
    "training_sequences = padded[split:] # YOUR CODE HERE]\n",
    "test_labels = labels[0:split]# YOUR CODE HERE]\n",
    "training_labels = labels[split:]# YOUR CODE HERE]"
   ]
  },
  {
   "cell_type": "code",
   "execution_count": 102,
   "metadata": {
    "colab": {
     "base_uri": "https://localhost:8080/",
     "height": 51
    },
    "colab_type": "code",
    "executionInfo": {
     "elapsed": 209,
     "status": "ok",
     "timestamp": 1559930100077,
     "user": {
      "displayName": "Laurence Moroney",
      "photoUrl": "https://lh4.googleusercontent.com/-wUzpekukCVw/AAAAAAAAAAI/AAAAAAAAAHw/pQPstOOJqqE/s64/photo.jpg",
      "userId": "17858265307580721507"
     },
     "user_tz": 420
    },
    "id": "gIrtRem1En3N",
    "outputId": "4ad8401c-8dba-420d-8aee-38dac0b0839a"
   },
   "outputs": [
    {
     "name": "stdout",
     "output_type": "stream",
     "text": [
      "138812\n",
      "1\n"
     ]
    }
   ],
   "source": [
    "print(vocab_size)\n",
    "print(word_index['i'])\n",
    "# Expected Output\n",
    "# 138858\n",
    "# 1"
   ]
  },
  {
   "cell_type": "code",
   "execution_count": 103,
   "metadata": {
    "colab": {
     "base_uri": "https://localhost:8080/",
     "height": 204
    },
    "colab_type": "code",
    "executionInfo": {
     "elapsed": 13089,
     "status": "ok",
     "timestamp": 1559930143373,
     "user": {
      "displayName": "Laurence Moroney",
      "photoUrl": "https://lh4.googleusercontent.com/-wUzpekukCVw/AAAAAAAAAAI/AAAAAAAAAHw/pQPstOOJqqE/s64/photo.jpg",
      "userId": "17858265307580721507"
     },
     "user_tz": 420
    },
    "id": "C1zdgJkusRh0",
    "outputId": "b6edd322-8191-45e7-cb12-08921685a72f"
   },
   "outputs": [],
   "source": [
    "# Note this is the 100 dimension version of GloVe from Stanford\n",
    "# I unzipped and hosted it on my site to make this notebook easier\n",
    "# !wget --no-check-certificate \\\n",
    "#     https://storage.googleapis.com/laurencemoroney-blog.appspot.com/glove.6B.100d.txt \\\n",
    "#     -O /tmp/glove.6B.100d.txt\n",
    "embeddings_index = {};\n",
    "with open('/tmp/glove.6B.100d.txt') as f:\n",
    "    for line in f:\n",
    "        values = line.split();\n",
    "        word = values[0];\n",
    "        coefs = np.asarray(values[1:], dtype='float32');\n",
    "        embeddings_index[word] = coefs;\n",
    "\n",
    "embeddings_matrix = np.zeros((vocab_size+1, embedding_dim));\n",
    "for word, i in word_index.items():\n",
    "    embedding_vector = embeddings_index.get(word);\n",
    "    if embedding_vector is not None:\n",
    "        embeddings_matrix[i] = embedding_vector;"
   ]
  },
  {
   "cell_type": "code",
   "execution_count": 92,
   "metadata": {
    "colab": {
     "base_uri": "https://localhost:8080/",
     "height": 34
    },
    "colab_type": "code",
    "executionInfo": {
     "elapsed": 193,
     "status": "ok",
     "timestamp": 1559930211883,
     "user": {
      "displayName": "Laurence Moroney",
      "photoUrl": "https://lh4.googleusercontent.com/-wUzpekukCVw/AAAAAAAAAAI/AAAAAAAAAHw/pQPstOOJqqE/s64/photo.jpg",
      "userId": "17858265307580721507"
     },
     "user_tz": 420
    },
    "id": "71NLk_lpFLNt",
    "outputId": "97cb88db-754f-4375-fdc3-876cd6b4fdce"
   },
   "outputs": [
    {
     "name": "stdout",
     "output_type": "stream",
     "text": [
      "138558\n"
     ]
    }
   ],
   "source": [
    "print(len(embeddings_matrix))\n",
    "# Expected Output\n",
    "# 138859"
   ]
  },
  {
   "cell_type": "code",
   "execution_count": 99,
   "metadata": {},
   "outputs": [
    {
     "data": {
      "text/plain": [
       "44"
      ]
     },
     "execution_count": 99,
     "metadata": {},
     "output_type": "execute_result"
    }
   ],
   "source": [
    "len(training_sequences[1])"
   ]
  },
  {
   "cell_type": "code",
   "execution_count": 104,
   "metadata": {
    "colab": {},
    "colab_type": "code",
    "id": "iKKvbuEBOGFz"
   },
   "outputs": [
    {
     "name": "stdout",
     "output_type": "stream",
     "text": [
      "Model: \"sequential_7\"\n",
      "_________________________________________________________________\n",
      "Layer (type)                 Output Shape              Param #   \n",
      "=================================================================\n",
      "embedding_7 (Embedding)      (None, 16, 100)           13881300  \n",
      "_________________________________________________________________\n",
      "conv1d_7 (Conv1D)            (None, 12, 128)           64128     \n",
      "_________________________________________________________________\n",
      "max_pooling1d_7 (MaxPooling1 (None, 3, 128)            0         \n",
      "_________________________________________________________________\n",
      "lstm_7 (LSTM)                (None, 32)                20608     \n",
      "_________________________________________________________________\n",
      "dense_7 (Dense)              (None, 1)                 33        \n",
      "=================================================================\n",
      "Total params: 13,966,069\n",
      "Trainable params: 84,769\n",
      "Non-trainable params: 13,881,300\n",
      "_________________________________________________________________\n"
     ]
    }
   ],
   "source": [
    "model = tf.keras.Sequential([\n",
    "    tf.keras.layers.Embedding(vocab_size+1, embedding_dim, input_length=max_length, weights=[embeddings_matrix], trainable=False),\n",
    "    # YOUR CODE HERE - experiment with combining different types, such as convolutions and LSTMs\n",
    "    tf.keras.layers.Conv1D(128, 5, activation='relu'),\n",
    "    tf.keras.layers.MaxPooling1D(pool_size=4),\n",
    "    tf.keras.layers.LSTM(32),\n",
    "    tf.keras.layers.Dense(1, activation='sigmoid')\n",
    "])\n",
    "model.compile(optimizer='adam', loss='binary_crossentropy', metrics=['accuracy'])# YOUR CODE HERE)\n",
    "model.summary()\n"
   ]
  },
  {
   "cell_type": "code",
   "execution_count": 112,
   "metadata": {},
   "outputs": [
    {
     "name": "stdout",
     "output_type": "stream",
     "text": [
      "(128, 128)\n",
      "(32, 128)\n",
      "(128,)\n"
     ]
    }
   ],
   "source": [
    "for var in model.layers[3].variables:\n",
    "    print(var.shape)"
   ]
  },
  {
   "cell_type": "code",
   "execution_count": 107,
   "metadata": {
    "scrolled": false
   },
   "outputs": [
    {
     "data": {
      "text/plain": [
       "[<tf.Variable 'lstm_7/kernel:0' shape=(128, 128) dtype=float32, numpy=\n",
       " array([[-0.02242157,  0.06443235, -0.03254837, ...,  0.12340783,\n",
       "         -0.06035699, -0.03764456],\n",
       "        [-0.03556702,  0.14940634,  0.17009735, ...,  0.06359382,\n",
       "          0.07338122, -0.05808947],\n",
       "        [ 0.14072074, -0.07477003,  0.03190565, ...,  0.08009797,\n",
       "         -0.06125277,  0.15329967],\n",
       "        ...,\n",
       "        [ 0.05574236,  0.04145518, -0.07747411, ...,  0.08934958,\n",
       "         -0.02045109,  0.14906257],\n",
       "        [-0.0690292 ,  0.03378295, -0.07943306, ..., -0.04386041,\n",
       "          0.14763202, -0.11425418],\n",
       "        [ 0.02836514, -0.02936734,  0.12378414, ...,  0.12059878,\n",
       "         -0.11477554, -0.08012311]], dtype=float32)>,\n",
       " <tf.Variable 'lstm_7/recurrent_kernel:0' shape=(32, 128) dtype=float32, numpy=\n",
       " array([[ 0.09612014,  0.0304251 ,  0.02096255, ..., -0.02987007,\n",
       "          0.03569466, -0.03078489],\n",
       "        [-0.13245998, -0.17878687,  0.06762763, ..., -0.20869896,\n",
       "         -0.02409156, -0.0489521 ],\n",
       "        [-0.29058576, -0.1616598 , -0.06739964, ..., -0.14192224,\n",
       "         -0.12125316,  0.0013216 ],\n",
       "        ...,\n",
       "        [ 0.18331987,  0.06070097, -0.02325429, ...,  0.05162938,\n",
       "          0.24473089,  0.21014461],\n",
       "        [-0.15856992,  0.09675117, -0.22265792, ..., -0.12155207,\n",
       "         -0.16790357, -0.31723917],\n",
       "        [-0.05293441, -0.12319607, -0.08829334, ...,  0.09466315,\n",
       "         -0.10325438, -0.0518023 ]], dtype=float32)>,\n",
       " <tf.Variable 'lstm_7/bias:0' shape=(128,) dtype=float32, numpy=\n",
       " array([ 0.01105645,  0.04640612,  0.07191648,  0.03788224,  0.07607824,\n",
       "         0.18092395,  0.11759938,  0.07581557,  0.03684976,  0.02140935,\n",
       "         0.05406987,  0.05946805,  0.11011162,  0.08007541,  0.07353546,\n",
       "         0.05208376,  0.05767332,  0.02433826,  0.07206023,  0.06582628,\n",
       "         0.25341448,  0.03420752,  0.07794978,  0.05464936,  0.10591805,\n",
       "         0.05338626,  0.14951931,  0.05934624,  0.06812756,  0.04341667,\n",
       "         0.0507854 ,  0.05718213,  1.0046152 ,  1.0210539 ,  1.0550597 ,\n",
       "         1.0218251 ,  1.0466952 ,  1.094257  ,  1.0711418 ,  1.0586473 ,\n",
       "         1.0329142 ,  1.0340015 ,  1.0302585 ,  1.04308   ,  1.0435708 ,\n",
       "         1.0490526 ,  1.0624114 ,  1.0478855 ,  1.0519167 ,  1.0239674 ,\n",
       "         1.0485559 ,  1.0556606 ,  1.1399359 ,  1.0267638 ,  1.0645108 ,\n",
       "         1.0351532 ,  1.0444393 ,  1.0402116 ,  1.0794919 ,  1.045892  ,\n",
       "         1.0431293 ,  1.0476242 ,  1.0404056 ,  1.0442979 , -0.03184712,\n",
       "        -0.04544038, -0.05074769, -0.03759995,  0.04745002,  0.10314826,\n",
       "        -0.07736196, -0.07839341,  0.04961914,  0.04639167, -0.0614984 ,\n",
       "        -0.07542516,  0.08415419, -0.047591  , -0.07498342,  0.07041007,\n",
       "        -0.05323627,  0.04577522,  0.05115859,  0.06852889, -0.16349654,\n",
       "         0.04049268,  0.06498329,  0.06006211,  0.07848119,  0.07013012,\n",
       "        -0.07321305, -0.04308647, -0.06071997,  0.06007565, -0.05480946,\n",
       "        -0.03545245,  0.02575482,  0.05092631,  0.07699598,  0.04632567,\n",
       "         0.07884008,  0.17201784,  0.11559822,  0.10030004,  0.05570713,\n",
       "         0.03230987,  0.08160148,  0.07301066,  0.11359968,  0.08373594,\n",
       "         0.11576343,  0.07249524,  0.07748467,  0.04402886,  0.10427902,\n",
       "         0.08245139,  0.2559482 ,  0.03101438,  0.11928028,  0.08153824,\n",
       "         0.11525521,  0.07577026,  0.15221655,  0.07287218,  0.07671708,\n",
       "         0.06250001,  0.06566183,  0.06763986], dtype=float32)>]"
      ]
     },
     "execution_count": 107,
     "metadata": {},
     "output_type": "execute_result"
    }
   ],
   "source": [
    "model.layers[3].variables"
   ]
  },
  {
   "cell_type": "code",
   "execution_count": 75,
   "metadata": {},
   "outputs": [
    {
     "data": {
      "text/plain": [
       "array([[   0,    0,    0, ..., 4207,   10, 2567],\n",
       "       [   0,    0,    0, ...,   13, 5897,  535],\n",
       "       [   0,    0,    0, ...,   10,   26, 2312],\n",
       "       ...,\n",
       "       [   0,    0,    0, ...,   10,    5,  325],\n",
       "       [   0,    0,    0, ..., 6600,    6,  390],\n",
       "       [   0,    0,    0, ...,  202, 3899,   30]], dtype=int32)"
      ]
     },
     "execution_count": 75,
     "metadata": {},
     "output_type": "execute_result"
    }
   ],
   "source": [
    "training_sequences"
   ]
  },
  {
   "cell_type": "code",
   "execution_count": 105,
   "metadata": {},
   "outputs": [],
   "source": [
    "# Need this block to get it to work with TensorFlow 2.x\n",
    "import numpy as np\n",
    "training_sequences = np.array(training_sequences)\n",
    "training_labels = np.array(training_labels)\n",
    "test_sequences = np.array(test_sequences)\n",
    "test_labels = np.array(test_labels)"
   ]
  },
  {
   "cell_type": "code",
   "execution_count": 106,
   "metadata": {},
   "outputs": [
    {
     "name": "stdout",
     "output_type": "stream",
     "text": [
      "Train on 144000 samples, validate on 16000 samples\n",
      "Epoch 1/50\n",
      "144000/144000 - 26s - loss: 0.0014 - accuracy: 0.9997 - val_loss: 1.0715e-05 - val_accuracy: 1.0000\n",
      "Epoch 2/50\n",
      "144000/144000 - 23s - loss: 4.0353e-06 - accuracy: 1.0000 - val_loss: 1.0217e-06 - val_accuracy: 1.0000\n",
      "Epoch 3/50\n",
      "144000/144000 - 23s - loss: 4.0543e-07 - accuracy: 1.0000 - val_loss: 1.0830e-07 - val_accuracy: 1.0000\n",
      "Epoch 4/50\n",
      "144000/144000 - 23s - loss: 4.3625e-08 - accuracy: 1.0000 - val_loss: 1.2241e-08 - val_accuracy: 1.0000\n",
      "Epoch 5/50\n",
      "144000/144000 - 17s - loss: 5.3363e-09 - accuracy: 1.0000 - val_loss: 1.9298e-09 - val_accuracy: 1.0000\n",
      "Epoch 6/50\n",
      "144000/144000 - 17s - loss: 1.0864e-09 - accuracy: 1.0000 - val_loss: 6.1812e-10 - val_accuracy: 1.0000\n",
      "Epoch 7/50\n",
      "144000/144000 - 17s - loss: 4.4723e-10 - accuracy: 1.0000 - val_loss: 3.3207e-10 - val_accuracy: 1.0000\n",
      "Epoch 8/50\n",
      "144000/144000 - 17s - loss: 2.7119e-10 - accuracy: 1.0000 - val_loss: 2.2467e-10 - val_accuracy: 1.0000\n",
      "Epoch 9/50\n",
      "144000/144000 - 17s - loss: 1.9437e-10 - accuracy: 1.0000 - val_loss: 1.6964e-10 - val_accuracy: 1.0000\n",
      "Epoch 10/50\n",
      "144000/144000 - 17s - loss: 1.5156e-10 - accuracy: 1.0000 - val_loss: 1.3626e-10 - val_accuracy: 1.0000\n",
      "Epoch 11/50\n",
      "144000/144000 - 17s - loss: 1.2424e-10 - accuracy: 1.0000 - val_loss: 1.1385e-10 - val_accuracy: 1.0000\n",
      "Epoch 12/50\n",
      "144000/144000 - 17s - loss: 1.0528e-10 - accuracy: 1.0000 - val_loss: 9.7786e-11 - val_accuracy: 1.0000\n",
      "Epoch 13/50\n",
      "144000/144000 - 16s - loss: 9.1345e-11 - accuracy: 1.0000 - val_loss: 8.5682e-11 - val_accuracy: 1.0000\n",
      "Epoch 14/50\n",
      "144000/144000 - 16s - loss: 8.0671e-11 - accuracy: 1.0000 - val_loss: 7.6229e-11 - val_accuracy: 1.0000\n",
      "Epoch 15/50\n",
      "144000/144000 - 16s - loss: 7.2238e-11 - accuracy: 1.0000 - val_loss: 6.8665e-11 - val_accuracy: 1.0000\n",
      "Epoch 16/50\n",
      "144000/144000 - 16s - loss: 6.5389e-11 - accuracy: 1.0000 - val_loss: 6.2484e-11 - val_accuracy: 1.0000\n",
      "Epoch 17/50\n",
      "144000/144000 - 16s - loss: 5.9751e-11 - accuracy: 1.0000 - val_loss: 5.7297e-11 - val_accuracy: 1.0000\n",
      "Epoch 18/50\n",
      "144000/144000 - 17s - loss: 5.4981e-11 - accuracy: 1.0000 - val_loss: 5.2911e-11 - val_accuracy: 1.0000\n",
      "Epoch 19/50\n",
      "144000/144000 - 17s - loss: 5.0937e-11 - accuracy: 1.0000 - val_loss: 4.9197e-11 - val_accuracy: 1.0000\n",
      "Epoch 20/50\n",
      "144000/144000 - 16s - loss: 4.7459e-11 - accuracy: 1.0000 - val_loss: 4.5904e-11 - val_accuracy: 1.0000\n",
      "Epoch 21/50\n",
      "144000/144000 - 17s - loss: 4.4389e-11 - accuracy: 1.0000 - val_loss: 4.3054e-11 - val_accuracy: 1.0000\n",
      "Epoch 22/50\n",
      "144000/144000 - 17s - loss: 4.1711e-11 - accuracy: 1.0000 - val_loss: 4.0518e-11 - val_accuracy: 1.0000\n",
      "Epoch 23/50\n",
      "144000/144000 - 16s - loss: 3.9327e-11 - accuracy: 1.0000 - val_loss: 3.8304e-11 - val_accuracy: 1.0000\n",
      "Epoch 24/50\n",
      "144000/144000 - 17s - loss: 3.7261e-11 - accuracy: 1.0000 - val_loss: 3.6336e-11 - val_accuracy: 1.0000\n",
      "Epoch 25/50\n",
      "144000/144000 - 16s - loss: 3.5353e-11 - accuracy: 1.0000 - val_loss: 3.4482e-11 - val_accuracy: 1.0000\n",
      "Epoch 26/50\n",
      "144000/144000 - 16s - loss: 3.3583e-11 - accuracy: 1.0000 - val_loss: 3.2818e-11 - val_accuracy: 1.0000\n",
      "Epoch 27/50\n",
      "144000/144000 - 16s - loss: 3.2036e-11 - accuracy: 1.0000 - val_loss: 3.1357e-11 - val_accuracy: 1.0000\n",
      "Epoch 28/50\n",
      "144000/144000 - 16s - loss: 3.0629e-11 - accuracy: 1.0000 - val_loss: 3.0001e-11 - val_accuracy: 1.0000\n",
      "Epoch 29/50\n",
      "144000/144000 - 16s - loss: 2.9327e-11 - accuracy: 1.0000 - val_loss: 2.8744e-11 - val_accuracy: 1.0000\n",
      "Epoch 30/50\n",
      "144000/144000 - 16s - loss: 2.8109e-11 - accuracy: 1.0000 - val_loss: 2.7569e-11 - val_accuracy: 1.0000\n",
      "Epoch 31/50\n",
      "144000/144000 - 17s - loss: 2.7012e-11 - accuracy: 1.0000 - val_loss: 2.6549e-11 - val_accuracy: 1.0000\n",
      "Epoch 32/50\n",
      "144000/144000 - 17s - loss: 2.6046e-11 - accuracy: 1.0000 - val_loss: 2.5622e-11 - val_accuracy: 1.0000\n",
      "Epoch 33/50\n",
      "144000/144000 - 17s - loss: 2.5144e-11 - accuracy: 1.0000 - val_loss: 2.4739e-11 - val_accuracy: 1.0000\n",
      "Epoch 34/50\n",
      "144000/144000 - 17s - loss: 2.4278e-11 - accuracy: 1.0000 - val_loss: 2.3888e-11 - val_accuracy: 1.0000\n",
      "Epoch 35/50\n",
      "144000/144000 - 17s - loss: 2.3444e-11 - accuracy: 1.0000 - val_loss: 2.3068e-11 - val_accuracy: 1.0000\n",
      "Epoch 36/50\n",
      "144000/144000 - 16s - loss: 2.2640e-11 - accuracy: 1.0000 - val_loss: 2.2278e-11 - val_accuracy: 1.0000\n",
      "Epoch 37/50\n",
      "144000/144000 - 16s - loss: 2.1869e-11 - accuracy: 1.0000 - val_loss: 2.1531e-11 - val_accuracy: 1.0000\n",
      "Epoch 38/50\n",
      "144000/144000 - 17s - loss: 2.1168e-11 - accuracy: 1.0000 - val_loss: 2.0879e-11 - val_accuracy: 1.0000\n",
      "Epoch 39/50\n",
      "144000/144000 - 16s - loss: 2.0554e-11 - accuracy: 1.0000 - val_loss: 2.0295e-11 - val_accuracy: 1.0000\n",
      "Epoch 40/50\n",
      "144000/144000 - 17s - loss: 1.9990e-11 - accuracy: 1.0000 - val_loss: 1.9743e-11 - val_accuracy: 1.0000\n",
      "Epoch 41/50\n",
      "144000/144000 - 17s - loss: 1.9448e-11 - accuracy: 1.0000 - val_loss: 1.9209e-11 - val_accuracy: 1.0000\n",
      "Epoch 42/50\n",
      "144000/144000 - 16s - loss: 1.8923e-11 - accuracy: 1.0000 - val_loss: 1.8692e-11 - val_accuracy: 1.0000\n",
      "Epoch 43/50\n",
      "144000/144000 - 17s - loss: 1.8418e-11 - accuracy: 1.0000 - val_loss: 1.8200e-11 - val_accuracy: 1.0000\n",
      "Epoch 44/50\n",
      "144000/144000 - 17s - loss: 1.7941e-11 - accuracy: 1.0000 - val_loss: 1.7736e-11 - val_accuracy: 1.0000\n",
      "Epoch 45/50\n",
      "144000/144000 - 16s - loss: 1.7489e-11 - accuracy: 1.0000 - val_loss: 1.7293e-11 - val_accuracy: 1.0000\n",
      "Epoch 46/50\n",
      "144000/144000 - 16s - loss: 1.7054e-11 - accuracy: 1.0000 - val_loss: 1.6864e-11 - val_accuracy: 1.0000\n",
      "Epoch 47/50\n",
      "144000/144000 - 16s - loss: 1.6632e-11 - accuracy: 1.0000 - val_loss: 1.6448e-11 - val_accuracy: 1.0000\n",
      "Epoch 48/50\n",
      "144000/144000 - 16s - loss: 1.6222e-11 - accuracy: 1.0000 - val_loss: 1.6042e-11 - val_accuracy: 1.0000\n",
      "Epoch 49/50\n",
      "144000/144000 - 16s - loss: 1.5822e-11 - accuracy: 1.0000 - val_loss: 1.5649e-11 - val_accuracy: 1.0000\n",
      "Epoch 50/50\n",
      "144000/144000 - 16s - loss: 1.5441e-11 - accuracy: 1.0000 - val_loss: 1.5286e-11 - val_accuracy: 1.0000\n",
      "Training Complete\n"
     ]
    }
   ],
   "source": [
    "\n",
    "num_epochs = 50\n",
    "history = model.fit(training_sequences, training_labels, epochs=num_epochs, validation_data=(test_sequences, test_labels), verbose=2)\n",
    "\n",
    "print(\"Training Complete\")"
   ]
  },
  {
   "cell_type": "code",
   "execution_count": 111,
   "metadata": {
    "colab": {},
    "colab_type": "code",
    "id": "qxju4ItJKO8F"
   },
   "outputs": [
    {
     "data": {
      "text/plain": [
       "<Figure size 576x396 with 0 Axes>"
      ]
     },
     "execution_count": 111,
     "metadata": {},
     "output_type": "execute_result"
    },
    {
     "data": {
      "image/png": "[encoded data removed]",
      "text/plain": [
       "<Figure size 576x396 with 1 Axes>"
      ]
     },
     "metadata": {},
     "output_type": "display_data"
    },
    {
     "data": {
      "image/png": "[encoded data removed]",
      "text/plain": [
       "<Figure size 576x396 with 1 Axes>"
      ]
     },
     "metadata": {},
     "output_type": "display_data"
    },
    {
     "data": {
      "text/plain": [
       "<Figure size 576x396 with 0 Axes>"
      ]
     },
     "metadata": {},
     "output_type": "display_data"
    }
   ],
   "source": [
    "import matplotlib.image  as mpimg\n",
    "import matplotlib.pyplot as plt\n",
    "\n",
    "#-----------------------------------------------------------\n",
    "# Retrieve a list of list results on training and test data\n",
    "# sets for each training epoch\n",
    "#-----------------------------------------------------------\n",
    "acc=history.history['accuracy']\n",
    "val_acc=history.history['val_accuracy']\n",
    "loss=history.history['loss']\n",
    "val_loss=history.history['val_loss']\n",
    "\n",
    "epochs=range(len(acc)) # Get number of epochs\n",
    "\n",
    "plt.style.use('seaborn')\n",
    "#------------------------------------------------\n",
    "# Plot training and validation accuracy per epoch\n",
    "#------------------------------------------------\n",
    "plt.plot(epochs, acc, 'r')\n",
    "plt.plot(epochs, val_acc, 'b')\n",
    "plt.title('Training and validation accuracy')\n",
    "plt.xlabel(\"Epochs\")\n",
    "plt.ylabel(\"Accuracy\")\n",
    "plt.legend([\"Accuracy\", \"Validation Accuracy\"])\n",
    "\n",
    "plt.figure()\n",
    "\n",
    "#------------------------------------------------\n",
    "# Plot training and validation loss per epoch\n",
    "#------------------------------------------------\n",
    "plt.plot(epochs, loss, 'r')\n",
    "plt.plot(epochs, val_loss, 'b')\n",
    "plt.title('Training and validation loss')\n",
    "plt.xlabel(\"Epochs\")\n",
    "plt.ylabel(\"Loss\")\n",
    "plt.legend([\"Loss\", \"Validation Loss\"])\n",
    "\n",
    "plt.figure()\n",
    "\n",
    "\n",
    "# Expected Output\n",
    "# A chart where the validation loss does not increase sharply!"
   ]
  },
  {
   "cell_type": "code",
   "execution_count": null,
   "metadata": {},
   "outputs": [],
   "source": []
  }
 ],
 "metadata": {
  "accelerator": "GPU",
  "colab": {
   "name": "NLP Course - Week 3 Exercise Question.ipynb",
   "provenance": [
    {
     "file_id": "1bEdiniaTOd2jRxqGDoluQKXTRmYGJUy0",
     "timestamp": 1559930374235
    }
   ],
   "version": "0.3.2"
  },
  "kernelspec": {
   "display_name": "tf2",
   "language": "python",
   "name": "tf2"
  },
  "language_info": {
   "codemirror_mode": {
    "name": "ipython",
    "version": 3
   },
   "file_extension": ".py",
   "mimetype": "text/x-python",
   "name": "python",
   "nbconvert_exporter": "python",
   "pygments_lexer": "ipython3",
   "version": "3.7.5"
  }
 },
 "nbformat": 4,
 "nbformat_minor": 1
}
