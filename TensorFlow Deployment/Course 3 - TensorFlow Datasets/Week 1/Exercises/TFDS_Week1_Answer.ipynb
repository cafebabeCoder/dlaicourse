{
 "cells": [
  {
   "cell_type": "markdown",
   "metadata": {},
   "source": [
    "# TFDS and Rock, Paper, Scissors"
   ]
  },
  {
   "cell_type": "markdown",
   "metadata": {},
   "source": [
    "<table class=\"tfo-notebook-buttons\" align=\"left\">\n",
    "  <td>\n",
    "    <a target=\"_blank\" href=\"https://colab.research.google.com/github/lmoroney/dlaicourse/blob/master/TensorFlow%20Deployment/Course%203%20-%20TensorFlow%20Datasets/Week%201/Exercises/TFDS_Week1_Exercise.ipynb\">\n",
    "    <img src=\"https://www.tensorflow.org/images/colab_logo_32px.png\" />\n",
    "    Run in Google Colab</a>\n",
    "  </td>\n",
    "  <td>\n",
    "    <a target=\"_blank\" href=\"https://github.com/lmoroney/dlaicourse/blob/master/TensorFlow%20Deployment/Course%203%20-%20TensorFlow%20Datasets/Week%201/Exercises/TFDS_Week1_Exercise.ipynb\">\n",
    "    <img src=\"https://www.tensorflow.org/images/GitHub-Mark-32px.png\" />\n",
    "    View source on GitHub</a>\n",
    "  </td>\n",
    "</table>"
   ]
  },
  {
   "cell_type": "markdown",
   "metadata": {},
   "source": [
    "In this week's exercise you will be working with TFDS and the rock-paper-scissors dataset. You'll do a few tasks such as exploring the info of the dataset in order to figure out the name of the splits. You'll also write code to see if the dataset supports the new S3 API before creating your own versions of the dataset."
   ]
  },
  {
   "cell_type": "markdown",
   "metadata": {},
   "source": [
    "## Setup"
   ]
  },
  {
   "cell_type": "code",
   "execution_count": 1,
   "metadata": {},
   "outputs": [],
   "source": [
    "try:\n",
    "    %tensorflow_version 2.x\n",
    "except:\n",
    "    pass"
   ]
  },
  {
   "cell_type": "code",
   "execution_count": 2,
   "metadata": {
    "colab": {},
    "colab_type": "code",
    "id": "TTBSvHcSLBzc"
   },
   "outputs": [
    {
     "name": "stdout",
     "output_type": "stream",
     "text": [
      "• Using TensorFlow Version: 2.0.0\n"
     ]
    }
   ],
   "source": [
    "# Use all imports\n",
    "import tensorflow as tf\n",
    "import tensorflow_datasets as tfds\n",
    "\n",
    "print(\"\\u2022 Using TensorFlow Version:\", tf.__version__)"
   ]
  },
  {
   "cell_type": "markdown",
   "metadata": {},
   "source": [
    "## Extract the Rock, Paper, Scissors Dataset\n",
    "\n",
    "In the cell below, you will extract the `rock_paper_scissors` dataset and then print its info. Take note of the splits, what they're called, and their size."
   ]
  },
  {
   "cell_type": "code",
   "execution_count": 14,
   "metadata": {
    "colab": {},
    "colab_type": "code",
    "id": "KGsVrzy84WI2",
    "scrolled": false
   },
   "outputs": [
    {
     "name": "stdout",
     "output_type": "stream",
     "text": [
      "tfds.core.DatasetInfo(\n",
      "    name='rock_paper_scissors',\n",
      "    version=3.0.0,\n",
      "    description='Images of hands playing rock, paper, scissor game.',\n",
      "    homepage='http://laurencemoroney.com/rock-paper-scissors-dataset',\n",
      "    features=FeaturesDict({\n",
      "        'image': Image(shape=(300, 300, 3), dtype=tf.uint8),\n",
      "        'label': ClassLabel(shape=(), dtype=tf.int64, num_classes=3),\n",
      "    }),\n",
      "    total_num_examples=2892,\n",
      "    splits={\n",
      "        'test': 372,\n",
      "        'train': 2520,\n",
      "    },\n",
      "    supervised_keys=('image', 'label'),\n",
      "    citation=\"\"\"@ONLINE {rps,\n",
      "    author = \"Laurence Moroney\",\n",
      "    title = \"Rock, Paper, Scissors Dataset\",\n",
      "    month = \"feb\",\n",
      "    year = \"2019\",\n",
      "    url = \"http://laurencemoroney.com/rock-paper-scissors-dataset\"\n",
      "    }\"\"\",\n",
      "    redistribution_info=,\n",
      ")\n",
      "\n"
     ]
    }
   ],
   "source": [
    "# EXERCISE: Use tfds.load to extract the rock_paper_scissors dataset.\n",
    "\n",
    "data, info = tfds.load(name=\"rock_paper_scissors\", split=('train', 'test'), data_dir='/tmp', with_info=True)# YOUR CODE HERE\n",
    "print(info)"
   ]
  },
  {
   "cell_type": "code",
   "execution_count": 20,
   "metadata": {},
   "outputs": [
    {
     "data": {
      "text/plain": [
       "(<DatasetV1Adapter shapes: {image: (300, 300, 3), label: ()}, types: {image: tf.uint8, label: tf.int64}>,\n",
       " <DatasetV1Adapter shapes: {image: (300, 300, 3), label: ()}, types: {image: tf.uint8, label: tf.int64}>)"
      ]
     },
     "execution_count": 20,
     "metadata": {},
     "output_type": "execute_result"
    }
   ],
   "source": [
    "data"
   ]
  },
  {
   "cell_type": "code",
   "execution_count": 22,
   "metadata": {},
   "outputs": [
    {
     "data": {
      "text/plain": [
       "{'test': <tfds.core.SplitInfo num_examples=372>,\n",
       " 'train': <tfds.core.SplitInfo num_examples=2520>}"
      ]
     },
     "execution_count": 22,
     "metadata": {},
     "output_type": "execute_result"
    }
   ],
   "source": [
    "info.splits"
   ]
  },
  {
   "cell_type": "code",
   "execution_count": 38,
   "metadata": {
    "colab": {},
    "colab_type": "code",
    "id": "epPGTUqE5Z2E",
    "scrolled": true
   },
   "outputs": [
    {
     "name": "stdout",
     "output_type": "stream",
     "text": [
      "test:372\n",
      "train:2520\n"
     ]
    }
   ],
   "source": [
    "# EXERCISE: In the space below, write code that iterates through the splits\n",
    "# without hardcoding any keys. The code should extract 'test' and 'train' as\n",
    "# the keys, and then print out the number of items in the dataset for each key. \n",
    "# HINT: num_examples property is very useful here.\n",
    "\n",
    "for k in info.splits:# YOUR CODE HERE:\n",
    "  print(k + \":\" + str(info.splits[k].num_examples)) # YOUR CODE HERE)\n",
    "\n",
    "# EXPECTED OUTPUT\n",
    "# test:372\n",
    "# train:2520"
   ]
  },
  {
   "cell_type": "markdown",
   "metadata": {},
   "source": [
    "## Use the New S3 API\n",
    "\n",
    "Before using the new S3 API, you must first find out whether the `rock_paper_scissors` dataset implements the new S3 API. In the cell below you should use version `3.*.*` of the `rock_paper_scissors` dataset."
   ]
  },
  {
   "cell_type": "code",
   "execution_count": 39,
   "metadata": {
    "colab": {},
    "colab_type": "code",
    "id": "Ms5ld5Ov6_OP"
   },
   "outputs": [
    {
     "name": "stdout",
     "output_type": "stream",
     "text": [
      "True\n"
     ]
    }
   ],
   "source": [
    "# EXERCISE: In the space below, use the tfds.builder to fetch the\n",
    "# rock_paper_scissors dataset and check to see if it supports the\n",
    "# new S3 API. \n",
    "# HINT: The builder should 'implement' something\n",
    "\n",
    "rps_builder = tfds.builder('rock_paper_scissors:3.*.*')# YOUR CODE HERE (Include the following arguments in your code: \"rock_paper_scissors:3.*.*\")\n",
    "\n",
    "print(rps_builder.version.implements(tfds.core.Experiment.S3)) # YOUR CODE HERE)\n",
    "\n",
    "# Expected output:\n",
    "# True"
   ]
  },
  {
   "cell_type": "markdown",
   "metadata": {},
   "source": [
    "## Create New Datasets with the S3 API\n",
    "\n",
    "Sometimes datasets are too big for prototyping. In the cell below, you will create a smaller dataset, where instead of using all of the training data and all of the test data, you instead have a `small_train` and `small_test` each of which are comprised of the first 10% of the records in their respective datasets."
   ]
  },
  {
   "cell_type": "code",
   "execution_count": 40,
   "metadata": {
    "colab": {},
    "colab_type": "code",
    "id": "QMGkJW6j7Ldl"
   },
   "outputs": [
    {
     "name": "stdout",
     "output_type": "stream",
     "text": [
      "\u001b[1mDownloading and preparing dataset rock_paper_scissors/3.0.0 (download: 219.53 MiB, generated: Unknown size, total: 219.53 MiB) to /root/tensorflow_datasets/rock_paper_scissors/3.0.0...\u001b[0m\n"
     ]
    },
    {
     "data": {
      "application/vnd.jupyter.widget-view+json": {
       "model_id": "e0fe8e26f3e84c9a91ce2d5038dddcba",
       "version_major": 2,
       "version_minor": 0
      },
      "text/plain": [
       "HBox(children=(IntProgress(value=1, bar_style='info', description='Dl Completed...', max=1, style=ProgressStyl…"
      ]
     },
     "metadata": {},
     "output_type": "display_data"
    },
    {
     "data": {
      "application/vnd.jupyter.widget-view+json": {
       "model_id": "6f614658fd5048c19c85055a0f048fd8",
       "version_major": 2,
       "version_minor": 0
      },
      "text/plain": [
       "HBox(children=(IntProgress(value=1, bar_style='info', description='Dl Size...', max=1, style=ProgressStyle(des…"
      ]
     },
     "metadata": {},
     "output_type": "display_data"
    },
    {
     "name": "stderr",
     "output_type": "stream",
     "text": [
      "/root/.local/lib/python3.7/site-packages/urllib3/connectionpool.py:847: InsecureRequestWarning: Unverified HTTPS request is being made. Adding certificate verification is strongly advised. See: https://urllib3.readthedocs.io/en/latest/advanced-usage.html#ssl-warnings\n",
      "  InsecureRequestWarning)\n",
      "/root/.local/lib/python3.7/site-packages/urllib3/connectionpool.py:847: InsecureRequestWarning: Unverified HTTPS request is being made. Adding certificate verification is strongly advised. See: https://urllib3.readthedocs.io/en/latest/advanced-usage.html#ssl-warnings\n",
      "  InsecureRequestWarning)\n"
     ]
    },
    {
     "name": "stdout",
     "output_type": "stream",
     "text": [
      "\n",
      "\n",
      "\n",
      "\n"
     ]
    },
    {
     "data": {
      "application/vnd.jupyter.widget-view+json": {
       "model_id": "",
       "version_major": 2,
       "version_minor": 0
      },
      "text/plain": [
       "HBox(children=(IntProgress(value=1, bar_style='info', max=1), HTML(value='')))"
      ]
     },
     "metadata": {},
     "output_type": "display_data"
    },
    {
     "name": "stdout",
     "output_type": "stream",
     "text": [
      "\r",
      "Shuffling and writing examples to /root/tensorflow_datasets/rock_paper_scissors/3.0.0.incompleteRC6KU2/rock_paper_scissors-train.tfrecord\n"
     ]
    },
    {
     "data": {
      "application/vnd.jupyter.widget-view+json": {
       "model_id": "233036d6420c49ceaa1e9bc86b1b4770",
       "version_major": 2,
       "version_minor": 0
      },
      "text/plain": [
       "HBox(children=(IntProgress(value=0, max=2520), HTML(value='')))"
      ]
     },
     "metadata": {},
     "output_type": "display_data"
    },
    {
     "data": {
      "application/vnd.jupyter.widget-view+json": {
       "model_id": "",
       "version_major": 2,
       "version_minor": 0
      },
      "text/plain": [
       "HBox(children=(IntProgress(value=1, bar_style='info', max=1), HTML(value='')))"
      ]
     },
     "metadata": {},
     "output_type": "display_data"
    },
    {
     "name": "stdout",
     "output_type": "stream",
     "text": [
      "\r",
      "Shuffling and writing examples to /root/tensorflow_datasets/rock_paper_scissors/3.0.0.incompleteRC6KU2/rock_paper_scissors-test.tfrecord\n"
     ]
    },
    {
     "data": {
      "application/vnd.jupyter.widget-view+json": {
       "model_id": "7b24f8d3d1764ad1b29ddc661fb76005",
       "version_major": 2,
       "version_minor": 0
      },
      "text/plain": [
       "HBox(children=(IntProgress(value=0, max=372), HTML(value='')))"
      ]
     },
     "metadata": {},
     "output_type": "display_data"
    },
    {
     "name": "stdout",
     "output_type": "stream",
     "text": [
      "\u001b[1mDataset rock_paper_scissors downloaded and prepared to /root/tensorflow_datasets/rock_paper_scissors/3.0.0. Subsequent calls will reuse this data.\u001b[0m\n",
      "\r"
     ]
    }
   ],
   "source": [
    "# EXERCISE: In the space below, create two small datasets, `small_train`\n",
    "# and `small_test`, each of which are comprised of the first 10% of the\n",
    "# records in their respective datasets.\n",
    "\n",
    "small_train = tfds.load('rock_paper_scissors:3.*.*',  split='train[:10%]') # YOUR CODE HERE (Include the following arguments in your code: \"rock_paper_scissors:3.*.*\")\n",
    "small_test = tfds.load('rock_paper_scissors:3.*.*', split='test[:10%]') # YOUR CODE HERE (Include the following arguments in your code: \"rock_paper_scissors:3.*.*\")\n",
    "\n",
    "# No expected output yet, that's in the next cell"
   ]
  },
  {
   "cell_type": "code",
   "execution_count": 41,
   "metadata": {
    "colab": {},
    "colab_type": "code",
    "id": "SOm99-zO_nAe"
   },
   "outputs": [
    {
     "name": "stdout",
     "output_type": "stream",
     "text": [
      "252\n",
      "37\n"
     ]
    }
   ],
   "source": [
    "# EXERCISE: Print out the size (length) of the small versions of the datasets.\n",
    "\n",
    "print(len(list(small_train))) # YOUR CODE HERE)\n",
    "print(len(list(small_test))) # YOUR CODE HERE)\n",
    "\n",
    "# Expected output\n",
    "# 252\n",
    "# 37"
   ]
  },
  {
   "cell_type": "markdown",
   "metadata": {},
   "source": [
    "The original dataset doesn't have a validation set, just training and testing sets. In the cell below, you will use TFDS to create new datasets according to these rules:\n",
    "\n",
    "* `new_train`: The new training set should be the first 90% of the original training set.\n",
    "\n",
    "\n",
    "* `new_test`: The new test set should be the first 90% of the original test set.\n",
    "\n",
    "\n",
    "* `validation`: The new validation set should be the last 10% of the original training set + the last 10% of the original test set."
   ]
  },
  {
   "cell_type": "code",
   "execution_count": 43,
   "metadata": {
    "colab": {},
    "colab_type": "code",
    "id": "jL7KXYi17s_1"
   },
   "outputs": [
    {
     "name": "stdout",
     "output_type": "stream",
     "text": [
      "2268\n",
      "335\n",
      "289\n"
     ]
    }
   ],
   "source": [
    "# EXERCISE: In the space below, create 3 new datasets according to\n",
    "# the rules indicated above.\n",
    "\n",
    "new_train = tfds.load('rock_paper_scissors:3.*.*', split='train[:90%]') # YOUR CODE HERE (Include the following arguments in your code: \"rock_paper_scissors:3.*.*\")\n",
    "print(len(list(new_train))) # YOUR CODE HERE)\n",
    "\n",
    "new_test = tfds.load('rock_paper_scissors:3.*.*', split='test[:90%]') # YOUR CODE HERE (Include the following arguments in your code: \"rock_paper_scissors:3.*.*\")\n",
    "print(len(list(new_test))) # YOUR CODE HERE)\n",
    "\n",
    "validation = tfds.load('rock_paper_scissors:3.*.*', split='train[:-90%] + test[:-90%]') # YOUR CODE HERE (Include the following arguments in your code: \"rock_paper_scissors:3.*.*\")\n",
    "print(len(list(validation)))# YOUR CODE HERE)\n",
    "\n",
    "# Expected output\n",
    "# 2268\n",
    "# 335\n",
    "# 289"
   ]
  },
  {
   "cell_type": "code",
   "execution_count": null,
   "metadata": {},
   "outputs": [],
   "source": []
  }
 ],
 "metadata": {
  "colab": {
   "collapsed_sections": [],
   "name": "TFDS_Week1_Exercise.ipynb",
   "provenance": []
  },
  "kernelspec": {
   "display_name": "tf2",
   "language": "python",
   "name": "tf2"
  },
  "language_info": {
   "codemirror_mode": {
    "name": "ipython",
    "version": 3
   },
   "file_extension": ".py",
   "mimetype": "text/x-python",
   "name": "python",
   "nbconvert_exporter": "python",
   "pygments_lexer": "ipython3",
   "version": "3.7.5"
  }
 },
 "nbformat": 4,
 "nbformat_minor": 1
}
